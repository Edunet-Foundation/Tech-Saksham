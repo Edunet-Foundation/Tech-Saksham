{
 "cells": [
  {
   "cell_type": "code",
   "execution_count": 1,
   "metadata": {},
   "outputs": [
    {
     "name": "stdout",
     "output_type": "stream",
     "text": [
      "I am a Cat\n"
     ]
    }
   ],
   "source": [
    "class Pet(object):\n",
    "   def my_method(self):\n",
    "      print(\"I am a Cat\")\n",
    "cat = Pet()\n",
    "cat.my_method()"
   ]
  },
  {
   "cell_type": "code",
   "execution_count": 2,
   "metadata": {},
   "outputs": [],
   "source": [
    "import numpy"
   ]
  },
  {
   "cell_type": "code",
   "execution_count": 3,
   "metadata": {},
   "outputs": [
    {
     "name": "stdout",
     "output_type": "stream",
     "text": [
      "[1 2 3 4 5]\n"
     ]
    }
   ],
   "source": [
    "import numpy\n",
    "\n",
    "arr = numpy.array([1, 2, 3, 4, 5])\n",
    "\n",
    "print(arr)"
   ]
  },
  {
   "cell_type": "code",
   "execution_count": 4,
   "metadata": {},
   "outputs": [
    {
     "name": "stdout",
     "output_type": "stream",
     "text": [
      "[1 2 3 4 5]\n",
      "<class 'numpy.ndarray'>\n"
     ]
    }
   ],
   "source": [
    "import numpy as np\n",
    "\n",
    "arr = np.array([1, 2, 3, 4, 5])\n",
    "\n",
    "print(arr)\n",
    "\n",
    "print(type(arr))"
   ]
  },
  {
   "cell_type": "code",
   "execution_count": 5,
   "metadata": {},
   "outputs": [
    {
     "name": "stdout",
     "output_type": "stream",
     "text": [
      "maximum element in the array is:  8\n",
      "minimum element in the array is:  1\n"
     ]
    }
   ],
   "source": [
    "# import numpy library\n",
    "import numpy\n",
    "\n",
    "# creating a numpy array of integers\n",
    "arr = numpy.array([1, 5, 4, 8, 3, 7])\n",
    "\n",
    "# finding the maximum and\n",
    "# minimum element in the array\n",
    "max_element = numpy.max(arr)\n",
    "min_element = numpy.min(arr)\n",
    "\n",
    "# printing the result\n",
    "print('maximum element in the array is: ',\n",
    "\tmax_element)\n",
    "print('minimum element in the array is: ',\n",
    "\tmin_element)\n"
   ]
  },
  {
   "cell_type": "code",
   "execution_count": 6,
   "metadata": {},
   "outputs": [
    {
     "name": "stdout",
     "output_type": "stream",
     "text": [
      "36\n"
     ]
    }
   ],
   "source": [
    "from numpy import random\n",
    "\n",
    "x = random.randint(100)\n",
    "\n",
    "print(x)"
   ]
  },
  {
   "cell_type": "code",
   "execution_count": 7,
   "metadata": {},
   "outputs": [
    {
     "name": "stdout",
     "output_type": "stream",
     "text": [
      "55\n"
     ]
    }
   ],
   "source": [
    "from numpy import random\n",
    "\n",
    "x = random.randint(100)\n",
    "\n",
    "print(x)"
   ]
  },
  {
   "cell_type": "code",
   "execution_count": 8,
   "metadata": {},
   "outputs": [
    {
     "name": "stdout",
     "output_type": "stream",
     "text": [
      "0.9274824796459412\n"
     ]
    }
   ],
   "source": [
    "from numpy import random\n",
    "\n",
    "x = random.rand()\n",
    "\n",
    "print(x)"
   ]
  },
  {
   "cell_type": "code",
   "execution_count": 9,
   "metadata": {},
   "outputs": [
    {
     "name": "stdout",
     "output_type": "stream",
     "text": [
      "[43 78 57 85  2]\n"
     ]
    }
   ],
   "source": [
    "from numpy import random\n",
    "\n",
    "x=random.randint(100, size=(5))\n",
    "\n",
    "print(x)"
   ]
  },
  {
   "cell_type": "code",
   "execution_count": 10,
   "metadata": {},
   "outputs": [
    {
     "name": "stdout",
     "output_type": "stream",
     "text": [
      "[[64 16 96 33 92]\n",
      " [ 7 38 81 64 27]\n",
      " [30 96 65 70 66]]\n"
     ]
    }
   ],
   "source": [
    "from numpy import random\n",
    "\n",
    "x = random.randint(100, size=(3, 5))\n",
    "\n",
    "print(x)"
   ]
  },
  {
   "cell_type": "code",
   "execution_count": 11,
   "metadata": {},
   "outputs": [
    {
     "name": "stdout",
     "output_type": "stream",
     "text": [
      "Via string input : \n",
      " [[1 2]\n",
      " [3 4]] \n",
      "\n",
      "\n",
      "Via array-like input : \n",
      " [[list([5, 6, 7]) list([4, 6])]]\n"
     ]
    },
    {
     "name": "stderr",
     "output_type": "stream",
     "text": [
      "C:\\Users\\user\\anaconda3\\lib\\site-packages\\numpy\\matrixlib\\defmatrix.py:145: VisibleDeprecationWarning: Creating an ndarray from ragged nested sequences (which is a list-or-tuple of lists-or-tuples-or ndarrays with different lengths or shapes) is deprecated. If you meant to do this, you must specify 'dtype=object' when creating the ndarray\n",
      "  arr = N.array(data, dtype=dtype, copy=copy)\n"
     ]
    }
   ],
   "source": [
    "# Python Program illustrating\n",
    "# numpy.matrix class\n",
    "\n",
    "import numpy as edunet\n",
    "\n",
    "# string input\n",
    "a = edunet.matrix('1 2; 3 4')\n",
    "print(\"Via string input : \\n\", a, \"\\n\\n\")\n",
    "\n",
    "# array-like input\n",
    "b = edunet.matrix([[5, 6, 7], [4, 6]])\n",
    "print(\"Via array-like input : \\n\", b)"
   ]
  },
  {
   "cell_type": "code",
   "execution_count": 12,
   "metadata": {},
   "outputs": [
    {
     "name": "stdout",
     "output_type": "stream",
     "text": [
      "Horizontal Vector\n",
      "[1 2 3]\n",
      "----------------\n",
      "Vertical Vector\n",
      "[[10]\n",
      " [20]\n",
      " [30]]\n"
     ]
    }
   ],
   "source": [
    "# importing numpy\n",
    "import numpy as np\n",
    "\n",
    "# creating a 1-D list (Horizontal)\n",
    "list1 = [1, 2, 3]\n",
    "\n",
    "# creating a 1-D list (Vertical)\n",
    "list2 = [[10],\n",
    "\t\t[20],\n",
    "\t\t[30]]\n",
    "\n",
    "# creating a vector1\n",
    "# vector as row\n",
    "vector1 = np.array(list1)\n",
    "\n",
    "# creating a vector 2\n",
    "# vector as column\n",
    "vector2 = np.array(list2)\n",
    "\n",
    "\n",
    "# showing horizontal vector\n",
    "print(\"Horizontal Vector\")\n",
    "print(vector1)\n",
    "\n",
    "print(\"----------------\")\n",
    "\n",
    "# showing vertical vector\n",
    "print(\"Vertical Vector\")\n",
    "print(vector2)\n"
   ]
  },
  {
   "cell_type": "code",
   "execution_count": 13,
   "metadata": {},
   "outputs": [
    {
     "name": "stdout",
     "output_type": "stream",
     "text": [
      "Input array :  [8]\n",
      "output scalar from input array :  8\n"
     ]
    },
    {
     "name": "stderr",
     "output_type": "stream",
     "text": [
      "<ipython-input-13-2052f4822ffd>:11: DeprecationWarning: np.asscalar(a) is deprecated since NumPy v1.16, use a.item() instead\n",
      "  out_scalar = edunet.asscalar(in_arr)\n"
     ]
    }
   ],
   "source": [
    "# Python program explaining\n",
    "# numpy.asscalar() function\n",
    "\n",
    "import numpy as edunet\n",
    "# creating a array of size 1\n",
    "in_arr = edunet.array([ 8 ])\n",
    "\n",
    "print (\"Input array : \", in_arr)\n",
    "\n",
    "\t\n",
    "out_scalar = edunet.asscalar(in_arr)\n",
    "print (\"output scalar from input array : \", out_scalar)\n"
   ]
  },
  {
   "cell_type": "code",
   "execution_count": 14,
   "metadata": {},
   "outputs": [
    {
     "name": "stdout",
     "output_type": "stream",
     "text": [
      "[[ 63 320  83]\n",
      " [ 77 484 102]\n",
      " [ 84 248 117]]\n"
     ]
    }
   ],
   "source": [
    "import numpy as np\n",
    "\n",
    "# input two matrices\n",
    "mat1 = ([1, 6, 5],[3 ,4, 8],[2, 12, 3])\n",
    "mat2 = ([3, 4, 6],[5, 6, 7],[6,56, 7])\n",
    "\n",
    "# This will return dot product\n",
    "res = np.dot(mat1,mat2)\n",
    "\n",
    "\n",
    "# print resulted matrix\n",
    "print(res)\n"
   ]
  },
  {
   "cell_type": "code",
   "execution_count": 15,
   "metadata": {},
   "outputs": [
    {
     "name": "stdout",
     "output_type": "stream",
     "text": [
      "[[ 1 23 78]\n",
      " [98 60 75]\n",
      " [79 25 48]]\n",
      "1\n",
      "98\n"
     ]
    }
   ],
   "source": [
    "import numpy as np\n",
    "arr= np.array([[1,23,78],[98,60,75],[79,25,48]])  \n",
    "print(arr)\n",
    "#Minimum Function\n",
    "print(np.amin(arr))\n",
    "#Maximum Function\n",
    "print(np.amax(arr))"
   ]
  },
  {
   "cell_type": "code",
   "execution_count": 16,
   "metadata": {},
   "outputs": [
    {
     "name": "stdout",
     "output_type": "stream",
     "text": [
      "[5 6 7]\n",
      "6.0\n"
     ]
    }
   ],
   "source": [
    "import numpy as np\n",
    "a = np.array([5,6,7]) \n",
    "print(a)\n",
    "print(np.mean(a))"
   ]
  },
  {
   "cell_type": "code",
   "execution_count": 17,
   "metadata": {},
   "outputs": [
    {
     "name": "stdout",
     "output_type": "stream",
     "text": [
      "[5 6 7]\n",
      "6.0\n"
     ]
    }
   ],
   "source": [
    "import numpy as np\n",
    "a = np.array([5,6,7]) \n",
    "print(a)\n",
    "print(np.median(a))"
   ]
  },
  {
   "cell_type": "code",
   "execution_count": 18,
   "metadata": {},
   "outputs": [
    {
     "name": "stdout",
     "output_type": "stream",
     "text": [
      "[5 6 7]\n",
      "0.816496580927726\n"
     ]
    }
   ],
   "source": [
    "import numpy as np\n",
    "a = np.array([5,6,7]) \n",
    "print(a)\n",
    "print(np.std(a))"
   ]
  },
  {
   "cell_type": "code",
   "execution_count": 19,
   "metadata": {},
   "outputs": [
    {
     "name": "stdout",
     "output_type": "stream",
     "text": [
      "[5 6 7]\n",
      "0.6666666666666666\n"
     ]
    }
   ],
   "source": [
    "import numpy as np\n",
    "a = np.array([5,6,7]) \n",
    "print(a)\n",
    "print(np.var(a))"
   ]
  },
  {
   "cell_type": "code",
   "execution_count": 20,
   "metadata": {},
   "outputs": [
    {
     "name": "stdout",
     "output_type": "stream",
     "text": [
      "34.0\n"
     ]
    }
   ],
   "source": [
    "import numpy as np\n",
    "\n",
    "data = [32, 36, 46, 47, 56, 69, 75, 79, 79, 88, 89, 91, 92, 93, 96, 97,\n",
    "\t\t101, 105, 112, 116]\n",
    "\n",
    "# First quartile (Q1)\n",
    "Q1 = np.median(data[:10])\n",
    "\n",
    "# Third quartile (Q3)\n",
    "Q3 = np.median(data[10:])\n",
    "\n",
    "# Interquartile range (IQR)\n",
    "IQR = Q3 - Q1\n",
    "\n",
    "print(IQR)\n"
   ]
  },
  {
   "cell_type": "code",
   "execution_count": 21,
   "metadata": {},
   "outputs": [
    {
     "name": "stdout",
     "output_type": "stream",
     "text": [
      "34.0\n"
     ]
    }
   ],
   "source": [
    "# Import numpy library\n",
    "import numpy as np\n",
    "\n",
    "data = [32, 36, 46, 47, 56, 69, 75, 79, 79, 88, 89, 91, 92, 93, 96, 97,\n",
    "\t\t101, 105, 112, 116]\n",
    "\n",
    "# First quartile (Q1)\n",
    "Q1 = np.percentile(data, 25, interpolation = 'midpoint')\n",
    "\n",
    "# Third quartile (Q3)\n",
    "Q3 = np.percentile(data, 75, interpolation = 'midpoint')\n",
    "\n",
    "# Interquaritle range (IQR)\n",
    "IQR = Q3 - Q1\n",
    "\n",
    "print(IQR)\n"
   ]
  },
  {
   "cell_type": "code",
   "execution_count": 22,
   "metadata": {},
   "outputs": [
    {
     "data": {
      "text/plain": [
       "array([2., 4., 6.])"
      ]
     },
     "execution_count": 22,
     "metadata": {},
     "output_type": "execute_result"
    }
   ],
   "source": [
    "a = np.array([1.0, 2.0, 3.0])\n",
    "b = np.array([2.0, 2.0, 2.0])\n",
    "a * b"
   ]
  },
  {
   "cell_type": "code",
   "execution_count": 23,
   "metadata": {},
   "outputs": [
    {
     "data": {
      "text/plain": [
       "array([2., 4., 6.])"
      ]
     },
     "execution_count": 23,
     "metadata": {},
     "output_type": "execute_result"
    }
   ],
   "source": [
    "from numpy import array\n",
    "a = array([1.0, 2.0, 3.0])\n",
    "b = array([2.0, 2.0, 2.0])\n",
    "a * b"
   ]
  },
  {
   "cell_type": "code",
   "execution_count": 24,
   "metadata": {},
   "outputs": [
    {
     "data": {
      "text/plain": [
       "array([2., 4., 6.])"
      ]
     },
     "execution_count": 24,
     "metadata": {},
     "output_type": "execute_result"
    }
   ],
   "source": [
    "from numpy import array\n",
    "a = array([1.0,2.0,3.0])\n",
    "b = 2.0\n",
    "a * b"
   ]
  },
  {
   "cell_type": "code",
   "execution_count": 25,
   "metadata": {},
   "outputs": [
    {
     "name": "stdout",
     "output_type": "stream",
     "text": [
      "Along first axis : \n",
      " [[10  1]\n",
      " [12 15]]\n",
      "\n",
      "Along first axis : \n",
      " [[10 15]\n",
      " [ 1 12]]\n",
      "\n",
      "Along none axis : \n",
      " [ 1 10 12 15]\n"
     ]
    }
   ],
   "source": [
    "import numpy as np\n",
    "\n",
    "# sort along the first axis\n",
    "a = np.array([[12, 15], [10, 1]])\n",
    "arr1 = np.sort(a, axis = 0)\t\t\n",
    "print (\"Along first axis : \\n\", arr1)\t\t\n",
    "\n",
    "\n",
    "# sort along the last axis\n",
    "a = np.array([[10, 15], [12, 1]])\n",
    "arr2 = np.sort(a, axis = -1)\t\t\n",
    "print (\"\\nAlong first axis : \\n\", arr2)\n",
    "\n",
    "\n",
    "a = np.array([[12, 15], [10, 1]])\n",
    "arr1 = np.sort(a, axis = None)\t\t\n",
    "print (\"\\nAlong none axis : \\n\", arr1)\n"
   ]
  }
 ],
 "metadata": {
  "kernelspec": {
   "display_name": "Python 3",
   "language": "python",
   "name": "python3"
  },
  "language_info": {
   "codemirror_mode": {
    "name": "ipython",
    "version": 3
   },
   "file_extension": ".py",
   "mimetype": "text/x-python",
   "name": "python",
   "nbconvert_exporter": "python",
   "pygments_lexer": "ipython3",
   "version": "3.8.5"
  }
 },
 "nbformat": 4,
 "nbformat_minor": 4
}
