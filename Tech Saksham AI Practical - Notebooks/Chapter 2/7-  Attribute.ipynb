{
 "cells": [
  {
   "cell_type": "code",
   "execution_count": 1,
   "metadata": {},
   "outputs": [
    {
     "name": "stdout",
     "output_type": "stream",
     "text": [
      "1\n",
      "2\n",
      "2\n"
     ]
    }
   ],
   "source": [
    "class sampleclass:\n",
    "\tcount = 0\t # class attribute\n",
    "\n",
    "\tdef increase(self):\n",
    "\t\tsampleclass.count += 1\n",
    "\n",
    "# Calling increase() on an object\n",
    "s1 = sampleclass()\n",
    "s1.increase()\t\t\n",
    "print(s1.count)\n",
    "\n",
    "# Calling increase on one more\n",
    "# object\n",
    "s2 = sampleclass()\n",
    "s2.increase()\n",
    "print(s2.count)\n",
    "\n",
    "print(sampleclass.count)\n"
   ]
  },
  {
   "cell_type": "code",
   "execution_count": 2,
   "metadata": {},
   "outputs": [
    {
     "name": "stdout",
     "output_type": "stream",
     "text": [
      "Dictionary form : {'name': 'xyz', 'salary': 4000}\n",
      "['__class__', '__delattr__', '__dict__', '__dir__', '__doc__', '__eq__', '__format__', '__ge__', '__getattribute__', '__gt__', '__hash__', '__init__', '__init_subclass__', '__le__', '__lt__', '__module__', '__ne__', '__new__', '__reduce__', '__reduce_ex__', '__repr__', '__setattr__', '__sizeof__', '__str__', '__subclasshook__', '__weakref__', 'name', 'salary', 'show']\n"
     ]
    }
   ],
   "source": [
    "# Python program to demonstrate\n",
    "# instance attributes.\n",
    "class emp:\n",
    "\tdef __init__(self):\n",
    "\t\tself.name = 'xyz'\n",
    "\t\tself.salary = 4000\n",
    "\n",
    "\tdef show(self):\n",
    "\t\tprint(self.name)\n",
    "\t\tprint(self.salary)\n",
    "\n",
    "e1 = emp()\n",
    "print(\"Dictionary form :\", vars(e1))\n",
    "print(dir(e1))\n"
   ]
  },
  {
   "cell_type": "code",
   "execution_count": null,
   "metadata": {},
   "outputs": [],
   "source": []
  }
 ],
 "metadata": {
  "kernelspec": {
   "display_name": "Python 3",
   "language": "python",
   "name": "python3"
  },
  "language_info": {
   "codemirror_mode": {
    "name": "ipython",
    "version": 3
   },
   "file_extension": ".py",
   "mimetype": "text/x-python",
   "name": "python",
   "nbconvert_exporter": "python",
   "pygments_lexer": "ipython3",
   "version": "3.8.5"
  }
 },
 "nbformat": 4,
 "nbformat_minor": 4
}
