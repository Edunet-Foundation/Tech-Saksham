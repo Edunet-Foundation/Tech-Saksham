{
 "cells": [
  {
   "cell_type": "code",
   "execution_count": 2,
   "metadata": {},
   "outputs": [
    {
     "name": "stdout",
     "output_type": "stream",
     "text": [
      "[1 2 3 4 5]\n",
      "<class 'numpy.ndarray'>\n"
     ]
    }
   ],
   "source": [
    "import numpy as np\n",
    "\n",
    "arr = np.array([1, 2, 3, 4, 5])\n",
    "\n",
    "print(arr)\n",
    "\n",
    "print(type(arr))"
   ]
  },
  {
   "cell_type": "code",
   "execution_count": 3,
   "metadata": {},
   "outputs": [
    {
     "name": "stdout",
     "output_type": "stream",
     "text": [
      "[1 2 3 4 5]\n"
     ]
    }
   ],
   "source": [
    "import numpy as np\n",
    "\n",
    "arr = np.array((1, 2, 3, 4, 5))\n",
    "\n",
    "print(arr)"
   ]
  },
  {
   "cell_type": "code",
   "execution_count": 4,
   "metadata": {},
   "outputs": [
    {
     "name": "stdout",
     "output_type": "stream",
     "text": [
      "[1 2 3 4 5]\n",
      "<class 'numpy.ndarray'>\n"
     ]
    }
   ],
   "source": [
    "import numpy as np\n",
    "\n",
    "arr = np.array([1, 2, 3, 4, 5])\n",
    "\n",
    "print(arr)\n",
    "\n",
    "print(type(arr))"
   ]
  },
  {
   "cell_type": "code",
   "execution_count": 5,
   "metadata": {},
   "outputs": [
    {
     "name": "stdout",
     "output_type": "stream",
     "text": [
      "maximum element in the array is:  8\n",
      "minimum element in the array is:  1\n"
     ]
    }
   ],
   "source": [
    "# Max-Min\n",
    "import numpy\n",
    "\n",
    "# creating a numpy array of integers\n",
    "arr = numpy.array([1, 5, 4, 8, 3, 7])\n",
    "\n",
    "# finding the maximum and\n",
    "# minimum element in the array\n",
    "max_element = numpy.max(arr)\n",
    "min_element = numpy.min(arr)\n",
    "\n",
    "# printing the result\n",
    "print('maximum element in the array is: ',\n",
    "\tmax_element)\n",
    "print('minimum element in the array is: ',\n",
    "\tmin_element)\n"
   ]
  },
  {
   "cell_type": "code",
   "execution_count": 6,
   "metadata": {},
   "outputs": [
    {
     "name": "stdout",
     "output_type": "stream",
     "text": [
      "14\n"
     ]
    }
   ],
   "source": [
    "# Random Number Generation\n",
    "from numpy import random\n",
    "\n",
    "x = random.randint(100)\n",
    "\n",
    "print(x)"
   ]
  },
  {
   "cell_type": "code",
   "execution_count": 7,
   "metadata": {},
   "outputs": [
    {
     "name": "stdout",
     "output_type": "stream",
     "text": [
      "0.002668696445327301\n"
     ]
    }
   ],
   "source": [
    "# Random Number Generation - float\n",
    "from numpy import random\n",
    "\n",
    "x = random.rand()\n",
    "\n",
    "print(x)"
   ]
  },
  {
   "cell_type": "code",
   "execution_count": 8,
   "metadata": {},
   "outputs": [
    {
     "name": "stdout",
     "output_type": "stream",
     "text": [
      "[ 3 67 65 89 49]\n"
     ]
    }
   ],
   "source": [
    "# Random Number Generation - Array\n",
    "from numpy import random\n",
    "\n",
    "x=random.randint(100, size=(5))\n",
    "\n",
    "print(x)"
   ]
  },
  {
   "cell_type": "code",
   "execution_count": 9,
   "metadata": {},
   "outputs": [
    {
     "name": "stdout",
     "output_type": "stream",
     "text": [
      "[[93 78 31  4 54]\n",
      " [ 4  1 67 96 25]\n",
      " [38 46 72 17  4]]\n"
     ]
    }
   ],
   "source": [
    "# Random Number Generation - 2D Array\n",
    "from numpy import random\n",
    "\n",
    "x = random.randint(100, size=(3, 5))\n",
    "\n",
    "print(x)"
   ]
  },
  {
   "cell_type": "code",
   "execution_count": 10,
   "metadata": {},
   "outputs": [
    {
     "name": "stdout",
     "output_type": "stream",
     "text": [
      "Input array :  [8]\n",
      "output scalar from input array :  8\n"
     ]
    },
    {
     "name": "stderr",
     "output_type": "stream",
     "text": [
      "<ipython-input-10-237e0a90ff51>:11: DeprecationWarning: np.asscalar(a) is deprecated since NumPy v1.16, use a.item() instead\n",
      "  out_scalar = geek.asscalar(in_arr)\n"
     ]
    }
   ],
   "source": [
    "#Scalar -  Python program explaining\n",
    "# numpy.asscalar() function\n",
    "\n",
    "import numpy as geek\n",
    "# creating a array of size 1\n",
    "in_arr = geek.array([ 8 ])\n",
    "\n",
    "print (\"Input array : \", in_arr)\n",
    "\n",
    "\t\n",
    "out_scalar = geek.asscalar(in_arr)\n",
    "print (\"output scalar from input array : \", out_scalar)\n"
   ]
  },
  {
   "cell_type": "code",
   "execution_count": 12,
   "metadata": {},
   "outputs": [
    {
     "name": "stdout",
     "output_type": "stream",
     "text": [
      "Horizontal Vector\n",
      "[1 2 3]\n",
      "----------------\n",
      "Vertical Vector\n",
      "[[10]\n",
      " [20]\n",
      " [30]]\n"
     ]
    }
   ],
   "source": [
    "# Vector\n",
    "# importing numpy\n",
    "import numpy as np\n",
    "\n",
    "# creating a 1-D list (Horizontal)\n",
    "list1 = [1, 2, 3]\n",
    "\n",
    "# creating a 1-D list (Vertical)\n",
    "list2 = [[10],\n",
    "\t\t[20],\n",
    "\t\t[30]]\n",
    "\n",
    "# creating a vector1\n",
    "# vector as row\n",
    "vector1 = np.array(list1)\n",
    "\n",
    "# creating a vector 2\n",
    "# vector as column\n",
    "vector2 = np.array(list2)\n",
    "\n",
    "\n",
    "# showing horizontal vector\n",
    "print(\"Horizontal Vector\")\n",
    "print(vector1)\n",
    "\n",
    "print(\"----------------\")\n",
    "\n",
    "# showing vertical vector\n",
    "print(\"Vertical Vector\")\n",
    "print(vector2)\n"
   ]
  },
  {
   "cell_type": "code",
   "execution_count": 13,
   "metadata": {},
   "outputs": [
    {
     "name": "stdout",
     "output_type": "stream",
     "text": [
      "Via string input : \n",
      " [[1 2]\n",
      " [3 4]] \n",
      "\n",
      "\n",
      "Via array-like input : \n",
      " [[list([5, 6, 7]) list([4, 6])]]\n"
     ]
    },
    {
     "name": "stderr",
     "output_type": "stream",
     "text": [
      "C:\\Users\\User\\anaconda3\\lib\\site-packages\\numpy\\matrixlib\\defmatrix.py:145: VisibleDeprecationWarning: Creating an ndarray from ragged nested sequences (which is a list-or-tuple of lists-or-tuples-or ndarrays with different lengths or shapes) is deprecated. If you meant to do this, you must specify 'dtype=object' when creating the ndarray\n",
      "  arr = N.array(data, dtype=dtype, copy=copy)\n"
     ]
    }
   ],
   "source": [
    "# Python Program illustrating\n",
    "# numpy.matrix class\n",
    "\n",
    "import numpy as geek\n",
    "\n",
    "# string input\n",
    "a = geek.matrix('1 2; 3 4')\n",
    "print(\"Via string input : \\n\", a, \"\\n\\n\")\n",
    "\n",
    "# array-like input\n",
    "b = geek.matrix([[5, 6, 7], [4, 6]])\n",
    "print(\"Via array-like input : \\n\", b)\n"
   ]
  },
  {
   "cell_type": "code",
   "execution_count": 14,
   "metadata": {},
   "outputs": [
    {
     "name": "stdout",
     "output_type": "stream",
     "text": [
      "[[114, 160, 60], [74, 97, 73], [119, 157, 112]]\n"
     ]
    }
   ],
   "source": [
    "# input two matrices of size n x m\n",
    "matrix1 = [[12,7,3],\n",
    "\t\t[4 ,5,6],\n",
    "\t\t[7 ,8,9]]\n",
    "matrix2 = [[5,8,1],\n",
    "\t\t[6,7,3],\n",
    "\t\t[4,5,9]]\n",
    "\n",
    "res = [[0 for x in range(3)] for y in range(3)]\n",
    "\n",
    "# explicit for loops\n",
    "for i in range(len(matrix1)):\n",
    "\tfor j in range(len(matrix2[0])):\n",
    "\t\tfor k in range(len(matrix2)):\n",
    "\n",
    "\t\t\t# resulted matrix\n",
    "\t\t\tres[i][j] += matrix1[i][k] * matrix2[k][j]\n",
    "\n",
    "print (res)\n"
   ]
  },
  {
   "cell_type": "code",
   "execution_count": 15,
   "metadata": {},
   "outputs": [
    {
     "name": "stdout",
     "output_type": "stream",
     "text": [
      "[[ 63 320  83]\n",
      " [ 77 484 102]\n",
      " [ 84 248 117]]\n"
     ]
    }
   ],
   "source": [
    "# We need install numpy in order to import it\n",
    "import numpy as np\n",
    "\n",
    "# input two matrices\n",
    "mat1 = ([1, 6, 5],[3 ,4, 8],[2, 12, 3])\n",
    "mat2 = ([3, 4, 6],[5, 6, 7],[6,56, 7])\n",
    "\n",
    "# This will return dot product\n",
    "res = np.dot(mat1,mat2)\n",
    "\n",
    "\n",
    "# print resulted matrix\n",
    "print(res)\n"
   ]
  },
  {
   "cell_type": "code",
   "execution_count": 17,
   "metadata": {},
   "outputs": [
    {
     "name": "stdout",
     "output_type": "stream",
     "text": [
      "arr :  [0 1 2 3 4 5 6 7]\n",
      "Min of arr :  0\n",
      "\n",
      "arr :  [[0 1 2 3 4]\n",
      " [5 6 7 8 9]]\n",
      "\n",
      "Min of arr, axis = None :  0\n",
      "Min of arr, axis = 0 :  [0 1 2 3 4]\n",
      "Min of arr, axis = 1 :  [0 5]\n"
     ]
    }
   ],
   "source": [
    "# Python Program illustrating\n",
    "# numpy.amin() method\n",
    "\n",
    "import numpy as geek\n",
    "\n",
    "# 1D array\n",
    "arr = geek.arange(8)\n",
    "print(\"arr : \", arr)\n",
    "print(\"Min of arr : \", geek.amin(arr))\n",
    "\n",
    "# 2D array\n",
    "arr = geek.arange(10).reshape(2, 5)\n",
    "print(\"\\narr : \", arr)\n",
    "\n",
    "# Minimum of the flattened array\n",
    "print(\"\\nMin of arr, axis = None : \", geek.amin(arr))\n",
    "\n",
    "# Minimum along the first axis\n",
    "# axis 0 means vertical\n",
    "print(\"Min of arr, axis = 0 : \", geek.amin(arr, axis = 0))\n",
    "\n",
    "# Minimum along the second axis\n",
    "# axis 1 means horizontal\n",
    "print(\"Min of arr, axis = 1 : \", geek.amin(arr, axis = 1))\n"
   ]
  },
  {
   "cell_type": "code",
   "execution_count": 18,
   "metadata": {},
   "outputs": [
    {
     "name": "stdout",
     "output_type": "stream",
     "text": [
      "arr :  [0 1 2 3 4 5 6 7]\n",
      "Max of arr :  7\n",
      "\n",
      "arr :  [[0 1 2 3 4]\n",
      " [5 6 7 8 9]]\n",
      "\n",
      "Max of arr, axis = None :  9\n",
      "Max of arr, axis = 0 :  [5 6 7 8 9]\n",
      "Max of arr, axis = 1 :  [4 9]\n"
     ]
    }
   ],
   "source": [
    "# Python Program illustrating\n",
    "# numpy.amax() method\n",
    "\n",
    "import numpy as geek\n",
    "\n",
    "# 1D array\n",
    "arr = geek.arange(8)\n",
    "print(\"arr : \", arr)\n",
    "print(\"Max of arr : \", geek.amax(arr))\n",
    "\n",
    "# 2D array\n",
    "arr = geek.arange(10).reshape(2, 5)\n",
    "print(\"\\narr : \", arr)\n",
    "\n",
    "# Maximum of the flattened array\n",
    "print(\"\\nMax of arr, axis = None : \", geek.amax(arr))\n",
    "\n",
    "# Maxima along the first axis\n",
    "# axis 0 means vertical\n",
    "print(\"Max of arr, axis = 0 : \", geek.amax(arr, axis = 0))\n",
    "\n",
    "# Maxima along the second axis\n",
    "# axis 1 means horizontal\n",
    "print(\"Max of arr, axis = 1 : \", geek.amax(arr, axis = 1))\n"
   ]
  },
  {
   "cell_type": "code",
   "execution_count": 19,
   "metadata": {},
   "outputs": [
    {
     "name": "stdout",
     "output_type": "stream",
     "text": [
      "maximum element in the array is:  8\n",
      "minimum element in the array is:  1\n"
     ]
    }
   ],
   "source": [
    "# import numpy library\n",
    "import numpy\n",
    "\n",
    "# creating a numpy array of integers\n",
    "arr = numpy.array([1, 5, 4, 8, 3, 7])\n",
    "\n",
    "# finding the maximum and\n",
    "# minimum element in the array\n",
    "max_element = numpy.max(arr)\n",
    "min_element = numpy.min(arr)\n",
    "\n",
    "# printing the result\n",
    "print('maximum element in the array is: ',\n",
    "\tmax_element)\n",
    "print('minimum element in the array is: ',\n",
    "\tmin_element)\n"
   ]
  },
  {
   "cell_type": "code",
   "execution_count": null,
   "metadata": {},
   "outputs": [],
   "source": []
  }
 ],
 "metadata": {
  "kernelspec": {
   "display_name": "Python 3",
   "language": "python",
   "name": "python3"
  },
  "language_info": {
   "codemirror_mode": {
    "name": "ipython",
    "version": 3
   },
   "file_extension": ".py",
   "mimetype": "text/x-python",
   "name": "python",
   "nbconvert_exporter": "python",
   "pygments_lexer": "ipython3",
   "version": "3.8.5"
  }
 },
 "nbformat": 4,
 "nbformat_minor": 4
}
