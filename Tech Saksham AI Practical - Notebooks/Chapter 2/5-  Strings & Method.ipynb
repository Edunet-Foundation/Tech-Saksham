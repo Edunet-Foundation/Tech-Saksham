{
 "cells": [
  {
   "cell_type": "code",
   "execution_count": 1,
   "metadata": {},
   "outputs": [
    {
     "name": "stdout",
     "output_type": "stream",
     "text": [
      "Hello python\n"
     ]
    }
   ],
   "source": [
    "# Capitalize\n",
    "mystring = \"hello python\"\n",
    "print(mystring.capitalize())\n"
   ]
  },
  {
   "cell_type": "code",
   "execution_count": 2,
   "metadata": {},
   "outputs": [
    {
     "name": "stdout",
     "output_type": "stream",
     "text": [
      "hello python\n"
     ]
    }
   ],
   "source": [
    "# Casefold\n",
    "mystring = \"hello PYTHON\"\n",
    "print(mystring.casefold())\n"
   ]
  },
  {
   "cell_type": "code",
   "execution_count": 3,
   "metadata": {},
   "outputs": [
    {
     "name": "stdout",
     "output_type": "stream",
     "text": [
      "---Hello----\n"
     ]
    }
   ],
   "source": [
    "#Centerwith\n",
    "mystring = \"Hello\"\n",
    "x = mystring.center(12,\n",
    "\"-\")\n",
    "print(x)\n"
   ]
  },
  {
   "cell_type": "code",
   "execution_count": 4,
   "metadata": {},
   "outputs": [
    {
     "name": "stdout",
     "output_type": "stream",
     "text": [
      "2\n",
      "1\n",
      "2\n",
      "1\n",
      "1\n",
      "0\n"
     ]
    }
   ],
   "source": [
    "# Count\n",
    "mystr = \"Hello Python\"\n",
    "print(mystr.count(\"o\"))\n",
    "\n",
    "print(mystr.count(\"th\"))\n",
    "\n",
    "print(mystr.count(\"l\"))\n",
    "\n",
    "print(mystr.count(\"h\"))\n",
    "\n",
    "print(mystr.count(\"H\"))\n",
    "\n",
    "print(mystr.count(\"hH\"))\n"
   ]
  },
  {
   "cell_type": "code",
   "execution_count": 5,
   "metadata": {},
   "outputs": [
    {
     "name": "stdout",
     "output_type": "stream",
     "text": [
      "The string is: python!\n"
     ]
    }
   ],
   "source": [
    "# Encoding\n",
    "mystr = 'python!'\n",
    "print('The string is:',\n",
    "mystr)\n"
   ]
  },
  {
   "cell_type": "code",
   "execution_count": 6,
   "metadata": {},
   "outputs": [
    {
     "name": "stdout",
     "output_type": "stream",
     "text": [
      "b'My name is St\\\\xe5le'\n",
      "b'My name is Stle'\n",
      "b'My name is St\\\\N{LATIN SMALL LETTER A WITH RING ABOVE}le'\n",
      "b'My name is St?le'\n",
      "b'My name is St&#229;le'\n"
     ]
    }
   ],
   "source": [
    "#Encoding\n",
    "txt = \"My name is Ståle\"\n",
    "print(txt.encode(encoding=\"ascii\",errors=\"backslashreplace\"))\n",
    "print(txt.encode(encoding=\"ascii\",errors=\"ignore\"))\n",
    "print(txt.encode(encoding=\"ascii\",errors=\"namereplace\"))\n",
    "print(txt.encode(encoding=\"ascii\",errors=\"replace\"))\n",
    "print(txt.encode(encoding=\"ascii\",errors=\"xmlcharrefreplace\"))\n"
   ]
  },
  {
   "cell_type": "code",
   "execution_count": 7,
   "metadata": {},
   "outputs": [
    {
     "name": "stdout",
     "output_type": "stream",
     "text": [
      "True\n"
     ]
    }
   ],
   "source": [
    "# Endswith\n",
    "txt= \"Hello, welcome to my world.\"\n",
    "x=txt.endswith(\".\")\n",
    "print(x)"
   ]
  },
  {
   "cell_type": "code",
   "execution_count": 8,
   "metadata": {},
   "outputs": [
    {
     "name": "stdout",
     "output_type": "stream",
     "text": [
      "False\n"
     ]
    }
   ],
   "source": [
    "# Endswith\n",
    "txt= \"Hello, welcome to my world.\"\n",
    "x=txt.endswith(\"!\")\n",
    "print(x)"
   ]
  },
  {
   "cell_type": "code",
   "execution_count": 9,
   "metadata": {},
   "outputs": [
    {
     "name": "stdout",
     "output_type": "stream",
     "text": [
      "False\n"
     ]
    }
   ],
   "source": [
    "# Endswith\n",
    "txt= \"Hello, welcome to my world!\"\n",
    "x=txt.endswith(\".\")\n",
    "print(x)"
   ]
  },
  {
   "cell_type": "code",
   "execution_count": 10,
   "metadata": {},
   "outputs": [
    {
     "name": "stdout",
     "output_type": "stream",
     "text": [
      "True\n"
     ]
    }
   ],
   "source": [
    "# Endswith\n",
    "txt= \"Hello, welcome to my world!\"\n",
    "x=txt.endswith(\"!\")\n",
    "print(x)"
   ]
  },
  {
   "cell_type": "code",
   "execution_count": 11,
   "metadata": {},
   "outputs": [
    {
     "name": "stdout",
     "output_type": "stream",
     "text": [
      "HELLO, WELCOME TO MY WORLD!\n"
     ]
    }
   ],
   "source": [
    "# Uppercase\n",
    "txt= \"Hello, welcome to my world!\"\n",
    "x=txt.upper()\n",
    "print(x)"
   ]
  },
  {
   "cell_type": "code",
   "execution_count": 12,
   "metadata": {},
   "outputs": [
    {
     "name": "stdout",
     "output_type": "stream",
     "text": [
      "hello, welcome to my world!\n"
     ]
    }
   ],
   "source": [
    "# Lowercase\n",
    "txt= \"Hello, welcome to my world!\"\n",
    "x=txt.lower()\n",
    "print(x)"
   ]
  },
  {
   "cell_type": "code",
   "execution_count": null,
   "metadata": {},
   "outputs": [],
   "source": []
  }
 ],
 "metadata": {
  "kernelspec": {
   "display_name": "Python 3",
   "language": "python",
   "name": "python3"
  },
  "language_info": {
   "codemirror_mode": {
    "name": "ipython",
    "version": 3
   },
   "file_extension": ".py",
   "mimetype": "text/x-python",
   "name": "python",
   "nbconvert_exporter": "python",
   "pygments_lexer": "ipython3",
   "version": "3.8.5"
  }
 },
 "nbformat": 4,
 "nbformat_minor": 4
}
