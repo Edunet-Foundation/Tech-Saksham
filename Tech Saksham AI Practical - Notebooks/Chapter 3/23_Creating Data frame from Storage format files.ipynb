{
 "cells": [
  {
   "cell_type": "markdown",
   "metadata": {},
   "source": [
    "# Creating Data frame from Storage format files\n"
   ]
  },
  {
   "cell_type": "markdown",
   "metadata": {},
   "source": [
    "There are two different methods to create Pandas DataFrame:\n",
    "\n",
    "1. By typing the values in Python itself to create the DataFrame\n",
    "2. By importing the values from a file (such as an Excel file), and then creating the DataFrame in Python based on the values imported"
   ]
  },
  {
   "cell_type": "markdown",
   "metadata": {},
   "source": [
    "Method 1: typing values in Python to create Pandas DataFrame"
   ]
  },
  {
   "cell_type": "markdown",
   "metadata": {},
   "source": [
    "To start, let’s say that you have the following data about Cars, and that you want to capture that data in Python using Pandas DataFrame:\n",
    "\n",
    "        Brand\t                   Price\n",
    "        \n",
    "      Honda Civic\t               22000\n",
    "     Toyota Corolla\t               25000\n",
    "      Ford Focus\t               27000\n",
    "       Audi A4\t                   35000"
   ]
  },
  {
   "cell_type": "code",
   "execution_count": 1,
   "metadata": {},
   "outputs": [
    {
     "name": "stdout",
     "output_type": "stream",
     "text": [
      "            Brand  Price\n",
      "0     Honda Civic  22000\n",
      "1  Toyota Corolla  25000\n",
      "2      Ford Focus  27000\n",
      "3         Audi A4  35000\n"
     ]
    }
   ],
   "source": [
    "import pandas as pd\n",
    "\n",
    "cars = {'Brand': ['Honda Civic','Toyota Corolla','Ford Focus','Audi A4'],\n",
    "        'Price': [22000,25000,27000,35000]\n",
    "        }\n",
    "\n",
    "df = pd.DataFrame(cars, columns = ['Brand', 'Price'])\n",
    "\n",
    "print (df);"
   ]
  },
  {
   "cell_type": "markdown",
   "metadata": {},
   "source": [
    "You may have noticed that each row is represented by a number (also known as the index) starting from 0. Alternatively, you may assign another value/name to represent each row.\n",
    "\n",
    "For example, in the code below, the index=[‘Car_1′,’Car_2′,’Car_3′,’Car_4’] was added:"
   ]
  },
  {
   "cell_type": "code",
   "execution_count": 2,
   "metadata": {},
   "outputs": [
    {
     "name": "stdout",
     "output_type": "stream",
     "text": [
      "                Brand  Price\n",
      "Car_1     Honda Civic  22000\n",
      "Car_2  Toyota Corolla  25000\n",
      "Car_3      Ford Focus  27000\n",
      "Car_4         Audi A4  35000\n"
     ]
    }
   ],
   "source": [
    "import pandas as pd\n",
    "\n",
    "cars = {'Brand': ['Honda Civic','Toyota Corolla','Ford Focus','Audi A4'],\n",
    "        'Price': [22000,25000,27000,35000]\n",
    "        }\n",
    "\n",
    "df = pd.DataFrame(cars, columns = ['Brand','Price'], index=['Car_1','Car_2','Car_3','Car_4'])\n",
    "\n",
    "print (df);"
   ]
  },
  {
   "cell_type": "markdown",
   "metadata": {},
   "source": [
    "Method 2: importing values from an Excel file to create Pandas DataFrame\n",
    "\n",
    "Make sure that the columns names specified in the code exactly match to the column names in the Excel file.\n",
    "\n",
    "Let’s say that you have the following table stored in an Excel file (where the Excel file name is ‘Cars’):\n",
    "\n",
    "        Brand\t                       Price\n",
    "     Honda Civic\t                   22000\n",
    "    Toyota Corolla\t                   25000\n",
    "      Ford Focus\t                   27000\n",
    "       Audi A4\t                       35000\n",
    "       \n",
    "In the Python code below, you’ll need to change the path name to reflect the location where the Excel file is stored on your computer.\n",
    "\n",
    "In my case, the Excel file is saved on my desktop, under the following path:\n",
    "\n",
    "‘D:\\Cars.xlsx’\n",
    "\n",
    "Once you imported the data into Python, you’ll be able to assign it to the DataFrame."
   ]
  },
  {
   "cell_type": "code",
   "execution_count": 1,
   "metadata": {},
   "outputs": [
    {
     "name": "stdout",
     "output_type": "stream",
     "text": [
      "            Brand  Price\n",
      "0     Honda Civic  22000\n",
      "1  Toyota Corolla  25000\n",
      "2      Ford Focus  27000\n",
      "3         Audi A4  35000\n"
     ]
    }
   ],
   "source": [
    "import pandas as pd\n",
    "\n",
    "cars = pd.read_excel(r'D:\\Cars.xlsx');\n",
    "df = pd.DataFrame(cars, columns = ['Brand','Price']);\n",
    "\n",
    "print (df);"
   ]
  },
  {
   "cell_type": "markdown",
   "metadata": {},
   "source": [
    "Note: you will have to install xlrd if you get the following error when running the code:\n",
    "\n",
    "ImportError: Install xlrd >= 1.0.0 for Excel support\n",
    "\n",
    "You may then use the PIP install method to install xlrd as follows:\n",
    "\n",
    "pip install xlrd"
   ]
  },
  {
   "cell_type": "markdown",
   "metadata": {},
   "source": [
    "Reference: https://datatofish.com/create-pandas-dataframe"
   ]
  }
 ],
 "metadata": {
  "kernelspec": {
   "display_name": "Python 3",
   "language": "python",
   "name": "python3"
  },
  "language_info": {
   "codemirror_mode": {
    "name": "ipython",
    "version": 3
   },
   "file_extension": ".py",
   "mimetype": "text/x-python",
   "name": "python",
   "nbconvert_exporter": "python",
   "pygments_lexer": "ipython3",
   "version": "3.7.1"
  }
 },
 "nbformat": 4,
 "nbformat_minor": 5
}
