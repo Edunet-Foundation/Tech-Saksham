{
 "cells": [
  {
   "cell_type": "code",
   "execution_count": 1,
   "metadata": {},
   "outputs": [
    {
     "data": {
      "image/png": "[encoded data removed]",
      "text/plain": [
       "<Figure size 432x288 with 1 Axes>"
      ]
     },
     "metadata": {
      "needs_background": "light"
     },
     "output_type": "display_data"
    }
   ],
   "source": [
    "#Adding title and Labelling the Axes in the graph\n",
    "\n",
    "# importing matplotlib module\n",
    "from matplotlib import pyplot as plt\n",
    "\n",
    "# x-axis values\n",
    "x = [5, 2, 9, 4, 7]\n",
    "\n",
    "# Y-axis values\n",
    "y = [10, 5, 8, 4, 2]\n",
    "\n",
    "# Function to plot\n",
    "plt.bar(x, y)\n",
    "\n",
    "# Adding Title\n",
    "plt.title(\"Bar graph \")\n",
    "\n",
    "# Labeling the axes\n",
    "plt.xlabel(\"Time (hr)\")\n",
    "plt.ylabel(\"Position (Km)\")\n",
    "\n",
    "# function to show the plot\n",
    "plt.show()\n"
   ]
  },
  {
   "cell_type": "code",
   "execution_count": null,
   "metadata": {},
   "outputs": [],
   "source": []
  }
 ],
 "metadata": {
  "kernelspec": {
   "display_name": "Python 3",
   "language": "python",
   "name": "python3"
  },
  "language_info": {
   "codemirror_mode": {
    "name": "ipython",
    "version": 3
   },
   "file_extension": ".py",
   "mimetype": "text/x-python",
   "name": "python",
   "nbconvert_exporter": "python",
   "pygments_lexer": "ipython3",
   "version": "3.8.5"
  }
 },
 "nbformat": 4,
 "nbformat_minor": 4
}
