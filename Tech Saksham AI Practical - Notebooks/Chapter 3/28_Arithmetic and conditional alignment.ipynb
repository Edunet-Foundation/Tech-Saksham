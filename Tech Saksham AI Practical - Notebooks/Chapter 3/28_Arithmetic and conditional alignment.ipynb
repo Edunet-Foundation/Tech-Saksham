{
 "cells": [
  {
   "cell_type": "markdown",
   "id": "radical-explanation",
   "metadata": {},
   "source": [
    "# Arithmetic and conditional alignment"
   ]
  },
  {
   "cell_type": "markdown",
   "id": "integrated-protest",
   "metadata": {},
   "source": [
    "The following table lists Python operators and their equivalent Pandas object methods:\n",
    "Python Operator \tPandas Method(s)\n",
    "\n",
    "      + \t            add()\n",
    "      - \t        sub(), subtract()\n",
    "      * \t        mul(), multiply()\n",
    "      / \t    truediv(), div(), divide()\n",
    "     // \t          floordiv()\n",
    "      % \t            mod()\n",
    "     ** \t            pow()\n",
    "     \n",
    "Let us see how to perform basic arithmetic operations like addition, subtraction, multiplication, and division on 2 Pandas Series.\n",
    "\n",
    "For all the 4 operations we will follow the basic algorithm :\n",
    "\n",
    "    1. Import the Pandas module.\n",
    "    2. Create 2 Pandas Series objects.\n",
    "    3. Perform the required arithmetic operation using the respective arithmetic operator between the 2 Series and assign          the result to another Series.\n",
    "    4. Display the resultant Series."
   ]
  },
  {
   "cell_type": "code",
   "execution_count": 1,
   "id": "registered-plaintiff",
   "metadata": {},
   "outputs": [
    {
     "name": "stdout",
     "output_type": "stream",
     "text": [
      "0     7\n",
      "1     9\n",
      "2    11\n",
      "3    13\n",
      "4    15\n",
      "dtype: int64\n"
     ]
    }
   ],
   "source": [
    "# Addition of 2 Series\n",
    "\n",
    "# importing the module\n",
    "import pandas as pd\n",
    "\n",
    "# creating 2 Pandas Series\n",
    "series1 = pd.Series([1, 2, 3, 4, 5])\n",
    "series2 = pd.Series([6, 7, 8, 9, 10])\n",
    "\n",
    "# adding the 2 Series\n",
    "series3 = series1 + series2\n",
    "\n",
    "# displaying the result\n",
    "print(series3)\n"
   ]
  },
  {
   "cell_type": "code",
   "execution_count": 2,
   "id": "subtle-yellow",
   "metadata": {},
   "outputs": [
    {
     "name": "stdout",
     "output_type": "stream",
     "text": [
      "0   -5\n",
      "1   -5\n",
      "2   -5\n",
      "3   -5\n",
      "4   -5\n",
      "dtype: int64\n"
     ]
    }
   ],
   "source": [
    "# Subtraction of 2 Series\n",
    "\n",
    "# importing the module\n",
    "import pandas as pd\n",
    "\n",
    "# creating 2 Pandas Series\n",
    "series1 = pd.Series([1, 2, 3, 4, 5])\n",
    "series2 = pd.Series([6, 7, 8, 9, 10])\n",
    "\n",
    "# subtracting the 2 Series\n",
    "series3 = series1 - series2\n",
    "\n",
    "# displaying the result\n",
    "print(series3)\n"
   ]
  },
  {
   "cell_type": "code",
   "execution_count": 3,
   "id": "stainless-spread",
   "metadata": {},
   "outputs": [
    {
     "name": "stdout",
     "output_type": "stream",
     "text": [
      "0     6\n",
      "1    14\n",
      "2    24\n",
      "3    36\n",
      "4    50\n",
      "dtype: int64\n"
     ]
    }
   ],
   "source": [
    "# Multiplication of 2 Series\n",
    "\n",
    "# importing the module\n",
    "import pandas as pd\n",
    "\n",
    "# creating 2 Pandas Series\n",
    "series1 = pd.Series([1, 2, 3, 4, 5])\n",
    "series2 = pd.Series([6, 7, 8, 9, 10])\n",
    "\n",
    "# multiplying the 2 Series\n",
    "series3 = series1 * series2\n",
    "\n",
    "# displaying the result\n",
    "print(series3)\n"
   ]
  },
  {
   "cell_type": "code",
   "execution_count": 4,
   "id": "together-italic",
   "metadata": {},
   "outputs": [
    {
     "name": "stdout",
     "output_type": "stream",
     "text": [
      "0    0.166667\n",
      "1    0.285714\n",
      "2    0.375000\n",
      "3    0.444444\n",
      "4    0.500000\n",
      "dtype: float64\n"
     ]
    }
   ],
   "source": [
    "# Division of 2 Series\n",
    "\n",
    "# importing the module\n",
    "import pandas as pd\n",
    "\n",
    "# creating 2 Pandas Series\n",
    "series1 = pd.Series([1, 2, 3, 4, 5])\n",
    "series2 = pd.Series([6, 7, 8, 9, 10])\n",
    "\n",
    "# dividing the 2 Series\n",
    "series3 = series1 / series2\n",
    "\n",
    "# displaying the result\n",
    "print(series3)\n"
   ]
  },
  {
   "cell_type": "markdown",
   "id": "psychological-table",
   "metadata": {},
   "source": [
    "Conditional operation on Pandas DataFrame columns\n",
    "Suppose you have an online store. The price of the products is updated frequently. While calculating the final price on the product, you check if the updated price is available or not. If not available then you use the last price available.\n",
    "Solution 1: We can use conditional expression to check if the column is present or not. If it is not present then we calculate the price using the alternative column."
   ]
  },
  {
   "cell_type": "code",
   "execution_count": 5,
   "id": "extreme-lecture",
   "metadata": {},
   "outputs": [
    {
     "name": "stdout",
     "output_type": "stream",
     "text": [
      "        Date    Product  Last Price  Updated Price  Discount\n",
      "0  10/2/2011   Umbrella        1200           1250        10\n",
      "1  11/2/2011    Matress        1500           1450        10\n",
      "2  12/2/2011  Badminton        1600           1550        10\n",
      "3  13/2/2011    Shuttle         352            400        10\n"
     ]
    }
   ],
   "source": [
    "# importing pandas as pd\n",
    "import pandas as pd\n",
    "\n",
    "# Create the dataframe\n",
    "df = pd.DataFrame({'Date':['10/2/2011', '11/2/2011', '12/2/2011', '13/2/2011'],\n",
    "\t\t\t\t'Product':['Umbrella', 'Matress', 'Badminton', 'Shuttle'],\n",
    "\t\t\t\t'Last Price':[1200, 1500, 1600, 352],\n",
    "\t\t\t\t'Updated Price':[1250, 1450, 1550, 400],\n",
    "\t\t\t\t'Discount':[10, 10, 10, 10]})\n",
    "\n",
    "# Print the dataframe\n",
    "print(df)\n"
   ]
  },
  {
   "cell_type": "code",
   "execution_count": 6,
   "id": "offshore-sport",
   "metadata": {},
   "outputs": [
    {
     "name": "stdout",
     "output_type": "stream",
     "text": [
      "        Date    Product  Last Price  Updated Price  Discount  Final cost\n",
      "0  10/2/2011   Umbrella        1200           1250        10      1125.0\n",
      "1  11/2/2011    Matress        1500           1450        10      1305.0\n",
      "2  12/2/2011  Badminton        1600           1550        10      1395.0\n",
      "3  13/2/2011    Shuttle         352            400        10       360.0\n"
     ]
    }
   ],
   "source": [
    "# Now we will check if the updated price is available or not. If not available then we will apply the discount of 10% on \n",
    "# the ‘Last Price’ column to calculate the final price.\n",
    "\n",
    "# Check if the updated price is available or not\n",
    "if 'Updated Price' in df.columns:\n",
    "\tdf['Final cost'] = df['Updated Price'] - (df['Updated Price']*0.1)\n",
    "\n",
    "else :\n",
    "\tdf['Final cost'] = df['Last Price'] - (df['Last Price']*0.1)\n",
    "\n",
    "# Print the Dataframe\n",
    "print(df)\n"
   ]
  },
  {
   "cell_type": "code",
   "execution_count": 7,
   "id": "relative-greeting",
   "metadata": {},
   "outputs": [
    {
     "name": "stdout",
     "output_type": "stream",
     "text": [
      "        Date    Product  Last Price  Discount\n",
      "0  10/2/2011   Umbrella        1200        10\n",
      "1  11/2/2011    Matress        1500        10\n",
      "2  12/2/2011  Badminton        1600        10\n",
      "3  13/2/2011    Shuttle         352        10\n"
     ]
    }
   ],
   "source": [
    "# Now let’s consider a scenario when the ‘Updated Price’ is not available.\n",
    "\n",
    "# importing pandas as pd\n",
    "import pandas as pd\n",
    "\n",
    "# Create the dataframe\n",
    "df = pd.DataFrame({'Date':['10/2/2011', '11/2/2011', '12/2/2011', '13/2/2011'],\n",
    "\t\t\t\t'Product':['Umbrella', 'Matress', 'Badminton', 'Shuttle'],\n",
    "\t\t\t\t'Last Price':[1200, 1500, 1600, 352],\n",
    "\t\t\t\t'Discount':[10, 10, 10, 10]})\n",
    "\n",
    "# Print the dataframe\n",
    "print(df)\n"
   ]
  },
  {
   "cell_type": "code",
   "execution_count": 8,
   "id": "brazilian-arbor",
   "metadata": {},
   "outputs": [
    {
     "name": "stdout",
     "output_type": "stream",
     "text": [
      "        Date    Product  Last Price  Discount  Final cost\n",
      "0  10/2/2011   Umbrella        1200        10      1080.0\n",
      "1  11/2/2011    Matress        1500        10      1350.0\n",
      "2  12/2/2011  Badminton        1600        10      1440.0\n",
      "3  13/2/2011    Shuttle         352        10       316.8\n"
     ]
    }
   ],
   "source": [
    "# Now we will check if the updated price is available or not. If not available then we will apply the discount of 10% on \n",
    "# the ‘Last Price’ column to calculate the final price.\n",
    "\n",
    "# Check if the updated price is available or not\n",
    "if 'Updated Price' in df.columns:\n",
    "\tdf['Final cost'] = df['Updated Price'] - (df['Updated Price']*0.1)\n",
    "\n",
    "else :\n",
    "\tdf['Final cost'] = df['Last Price'] - (df['Last Price']*0.1)\n",
    "\n",
    "# Print the Dataframe\n",
    "print(df)\n"
   ]
  },
  {
   "cell_type": "markdown",
   "id": "naked-carry",
   "metadata": {},
   "source": [
    "Reference: 1. https://jakevdp.github.io/PythonDataScienceHandbook/03.03-operations-in-pandas.html\n",
    " \t       2. https://www.geeksforgeeks.org/add-subtract-multiple-and-divide-two-pandas-series\n",
    "\t       3. https://www.geeksforgeeks.org/conditional-operation-on-pandas-dataframe-columns"
   ]
  }
 ],
 "metadata": {
  "kernelspec": {
   "display_name": "Python 3",
   "language": "python",
   "name": "python3"
  },
  "language_info": {
   "codemirror_mode": {
    "name": "ipython",
    "version": 3
   },
   "file_extension": ".py",
   "mimetype": "text/x-python",
   "name": "python",
   "nbconvert_exporter": "python",
   "pygments_lexer": "ipython3",
   "version": "3.9.2"
  }
 },
 "nbformat": 4,
 "nbformat_minor": 5
}
