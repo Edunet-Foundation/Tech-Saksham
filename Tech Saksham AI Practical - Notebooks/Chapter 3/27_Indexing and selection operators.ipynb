{
 "cells": [
  {
   "cell_type": "markdown",
   "id": "consolidated-bahrain",
   "metadata": {},
   "source": [
    "# Indexing and selection operators"
   ]
  },
  {
   "cell_type": "code",
   "execution_count": null,
   "id": "impossible-category",
   "metadata": {},
   "outputs": [],
   "source": [
    "The Python and NumPy indexing operators [] and attribute operator ‘.’ (dot) provide quick and easy access to pandas \n",
    "data structures across a wide range of use cases. \n",
    "The index is like an address, that’s how any data point across the data frame or series can be accessed. \n",
    "Rows and columns both have indexes.\n",
    "The axis labeling information in pandas objects serves many purposes:\n",
    "\n",
    "   1. Identifies data (i.e. provides metadata) using known indicators, important for analysis, visualization, and interactive console display.\n",
    "   2. Enables automatic and explicit data alignment.\n",
    "   3. Allows intuitive getting and setting of subsets of the data set.\n",
    "\n",
    "Pandas now support three types of multi-axis indexing for selecting data.\n",
    "1. \".loc\" is primarily label based, but may also be used with a boolean array.\n",
    "\n",
    "We are creating a Data frame with the help of pandas and NumPy. In the data frame, we are generating random numbers \n",
    "with the help of random functions. Here the index is given with label names of small alphabet and column names \n",
    "given with capital alphabets. The index contains six alphabet means we want rows and three columns, also mentioned \n",
    "in the ‘randn’ function.\n",
    "\n",
    "If these two values mismatch with index, column labels, and in ‘randn’ function, then it will give an error.\n"
   ]
  },
  {
   "cell_type": "code",
   "execution_count": 28,
   "id": "martial-pound",
   "metadata": {},
   "outputs": [
    {
     "name": "stdout",
     "output_type": "stream",
     "text": [
      "          A         B         C\n",
      "a -0.024634  0.393767 -0.648700\n",
      "b  0.059092 -0.863595 -1.700942\n",
      "c  1.131106 -0.874033 -0.666747\n",
      "d  1.108531 -0.111563  0.113026\n",
      "e  1.709291 -1.886434  0.038395\n",
      "f  0.814778  0.893003  0.403733\n"
     ]
    }
   ],
   "source": [
    "# import the pandas library and aliasing as pd\n",
    "import pandas as pd\n",
    "import numpy as npdf\n",
    "\n",
    "df = pd.DataFrame(np.random.randn(6, 3),\n",
    "index = ['a','b','c','d','e','f'], columns = ['A', 'B', 'C'])\n",
    "print (df.loc['a':'f'])"
   ]
  },
  {
   "cell_type": "markdown",
   "id": "ambient-passage",
   "metadata": {},
   "source": [
    "If we want to just access the only one column then, we can do with the colon. The colon in the square bracket tells the all rows because we did not mention any slicing number and the value after the comma is B means, we want to see the values of column B."
   ]
  },
  {
   "cell_type": "code",
   "execution_count": 29,
   "id": "unusual-poland",
   "metadata": {},
   "outputs": [
    {
     "name": "stdout",
     "output_type": "stream",
     "text": [
      "a    0.393767\n",
      "b   -0.863595\n",
      "c   -0.874033\n",
      "d   -0.111563\n",
      "e   -1.886434\n",
      "f    0.893003\n",
      "Name: B, dtype: float64\n"
     ]
    }
   ],
   "source": [
    "print (df.loc[:,'B'])"
   ]
  },
  {
   "cell_type": "markdown",
   "id": "certified-mexico",
   "metadata": {},
   "source": [
    "2. \".iloc\" is primarily integer position based (from 0 to length-1 of the axis), but may also be used with a boolean array. Pandas provide various methods to get purely integer based indexing."
   ]
  },
  {
   "cell_type": "code",
   "execution_count": 30,
   "id": "outside-madagascar",
   "metadata": {},
   "outputs": [
    {
     "name": "stdout",
     "output_type": "stream",
     "text": [
      "          A         B         C\n",
      "0  0.342853 -1.324122 -0.200964\n",
      "1 -1.164855  0.651946 -0.991476\n",
      "2 -1.096943 -1.414003 -1.460055\n",
      "3 -0.335009  0.253891 -0.345081\n",
      "4  1.243540  0.422151 -1.258941\n",
      "5  0.193142  0.671244  1.060763\n",
      "6 -2.037273 -0.247242  0.737476\n",
      "7  1.610351 -2.079274  0.263465\n"
     ]
    }
   ],
   "source": [
    "# import the pandas library and aliasing as pd\n",
    "import pandas as pd\n",
    "import numpy as np\n",
    "\n",
    "df1 = pd.DataFrame(np.random.randn(8, 3),columns = ['A', 'B', 'C'])\n",
    "\n",
    "# select all rows for a specific column\n",
    "print (df1.iloc[:8])"
   ]
  },
  {
   "cell_type": "markdown",
   "id": "numerous-photographer",
   "metadata": {},
   "source": [
    "In the above program, the .iloc gives the integer index and we can access the values of row and column by index values. To know the particular rows and columns we do slicing and the index is integer based so we use .iloc. The first line is to want the output of the first four rows and the second line is to find the output of two to three rows and column indexing of B and C."
   ]
  },
  {
   "cell_type": "code",
   "execution_count": 31,
   "id": "unknown-bradley",
   "metadata": {},
   "outputs": [
    {
     "name": "stdout",
     "output_type": "stream",
     "text": [
      "          A         B         C\n",
      "0  0.342853 -1.324122 -0.200964\n",
      "1 -1.164855  0.651946 -0.991476\n",
      "2 -1.096943 -1.414003 -1.460055\n",
      "3 -0.335009  0.253891 -0.345081\n",
      "          B         C\n",
      "2 -1.414003 -1.460055\n",
      "3  0.253891 -0.345081\n"
     ]
    }
   ],
   "source": [
    "# Integer slicing\n",
    "print (df1.iloc[:4])\n",
    "print (df1.iloc[2:4, 1:3])"
   ]
  },
  {
   "cell_type": "markdown",
   "id": "studied-curtis",
   "metadata": {},
   "source": [
    "3. \".ix\" is used for both labels and integer-based. Besides pure label based and integer-based, Pandas provides a hybrid method for selections and subsetting the object using the .ix() operator. "
   ]
  },
  {
   "cell_type": "code",
   "execution_count": 37,
   "id": "lonely-regard",
   "metadata": {},
   "outputs": [],
   "source": [
    "import pandas as pd\n",
    "import numpy as np\n",
    "\n",
    "df = pd.DataFrame(np.random.randn(8, 4), columns = ['A', 'B', 'C', 'D'])\n",
    "# Integer slicing\n",
    "print df.ix[:4]"
   ]
  },
  {
   "cell_type": "code",
   "execution_count": null,
   "id": "adolescent-remove",
   "metadata": {},
   "outputs": [],
   "source": [
    "Reference: https://www.analyticsvidhya.com/blog/2020/09/indexing-and-selecting-data-in-python-how-to-slice-dice-for-pandas-series-and-dataframe"
   ]
  }
 ],
 "metadata": {
  "kernelspec": {
   "display_name": "Python 3",
   "language": "python",
   "name": "python3"
  },
  "language_info": {
   "codemirror_mode": {
    "name": "ipython",
    "version": 3
   },
   "file_extension": ".py",
   "mimetype": "text/x-python",
   "name": "python",
   "nbconvert_exporter": "python",
   "pygments_lexer": "ipython3",
   "version": "3.9.2"
  }
 },
 "nbformat": 4,
 "nbformat_minor": 5
}
