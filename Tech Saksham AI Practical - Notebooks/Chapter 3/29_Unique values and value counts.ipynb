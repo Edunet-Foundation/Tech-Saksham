{
 "cells": [
  {
   "cell_type": "markdown",
   "id": "organizational-rendering",
   "metadata": {},
   "source": [
    "# Unique values and value counts"
   ]
  },
  {
   "cell_type": "markdown",
   "id": "opponent-cuisine",
   "metadata": {},
   "source": [
    "The value_counts() function is used to get a Series containing counts of unique values.\n",
    "\n",
    "The resulting object will be in descending order so that the first element is the most frequently-occurring element. Excludes NA values by default.\n",
    "\n",
    "Syntax:\n",
    "Series.value_counts(self, normalize=False, sort=True, ascending=False, bins=None, dropna=True)"
   ]
  },
  {
   "cell_type": "code",
   "execution_count": 9,
   "id": "continued-warning",
   "metadata": {},
   "outputs": [
    {
     "data": {
      "text/plain": [
       "2.0    2\n",
       "5.0    1\n",
       "4.0    1\n",
       "3.0    1\n",
       "dtype: int64"
      ]
     },
     "execution_count": 9,
     "metadata": {},
     "output_type": "execute_result"
    }
   ],
   "source": [
    "import numpy as np\n",
    "import pandas as pd\n",
    "\n",
    "index = pd.Index([2, 2, 5, 3, 4, np.nan])\n",
    "index.value_counts()"
   ]
  },
  {
   "cell_type": "code",
   "execution_count": 10,
   "id": "sublime-dover",
   "metadata": {},
   "outputs": [
    {
     "data": {
      "text/plain": [
       "2.0    0.4\n",
       "5.0    0.2\n",
       "4.0    0.2\n",
       "3.0    0.2\n",
       "dtype: float64"
      ]
     },
     "execution_count": 10,
     "metadata": {},
     "output_type": "execute_result"
    }
   ],
   "source": [
    "# With normalize set to True, returns the relative frequency by dividing all values by the sum of values.\n",
    "\n",
    "s = pd.Series([2, 2, 5, 3, 4, np.nan])\n",
    "\n",
    "s.value_counts(normalize=True)"
   ]
  },
  {
   "cell_type": "code",
   "execution_count": 11,
   "id": "nonprofit-current",
   "metadata": {},
   "outputs": [
    {
     "data": {
      "text/plain": [
       "(1.9960000000000002, 3.0]    3\n",
       "(3.0, 4.0]                   1\n",
       "(4.0, 5.0]                   1\n",
       "dtype: int64"
      ]
     },
     "execution_count": 11,
     "metadata": {},
     "output_type": "execute_result"
    }
   ],
   "source": [
    "# bins\n",
    "# Bins can be useful for going from a continuous variable to a categorical variable; instead of counting\n",
    "# unique apparitions of values, divide the index in the specified number of half-open bins.\n",
    "\n",
    "s.value_counts(bins=3)"
   ]
  },
  {
   "cell_type": "code",
   "execution_count": 12,
   "id": "massive-space",
   "metadata": {},
   "outputs": [
    {
     "data": {
      "text/plain": [
       "2.0    2\n",
       "5.0    1\n",
       "NaN    1\n",
       "4.0    1\n",
       "3.0    1\n",
       "dtype: int64"
      ]
     },
     "execution_count": 12,
     "metadata": {},
     "output_type": "execute_result"
    }
   ],
   "source": [
    "# dropna\n",
    "# With dropna set to False we can also see NaN index values.\n",
    "\n",
    "s.value_counts(dropna=False)"
   ]
  },
  {
   "cell_type": "markdown",
   "id": "beneficial-fever",
   "metadata": {},
   "source": [
    "Reference: https://www.w3resource.com/pandas/series/series-value_counts.php"
   ]
  }
 ],
 "metadata": {
  "kernelspec": {
   "display_name": "Python 3",
   "language": "python",
   "name": "python3"
  },
  "language_info": {
   "codemirror_mode": {
    "name": "ipython",
    "version": 3
   },
   "file_extension": ".py",
   "mimetype": "text/x-python",
   "name": "python",
   "nbconvert_exporter": "python",
   "pygments_lexer": "ipython3",
   "version": "3.9.2"
  }
 },
 "nbformat": 4,
 "nbformat_minor": 5
}
