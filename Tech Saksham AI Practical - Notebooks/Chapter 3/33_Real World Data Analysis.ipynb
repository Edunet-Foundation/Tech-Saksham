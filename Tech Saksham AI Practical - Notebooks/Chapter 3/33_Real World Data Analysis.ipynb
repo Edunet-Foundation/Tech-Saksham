{
 "cells": [
  {
   "cell_type": "markdown",
   "id": "frequent-accounting",
   "metadata": {},
   "source": [
    "# Real World Data Analysis"
   ]
  },
  {
   "cell_type": "markdown",
   "id": "invisible-focus",
   "metadata": {},
   "source": [
    "Diamonds:\n",
    "\n",
    "This classic dataset contains the prices and other attributes of almost 54,000 diamonds. The dataset \"diamonds.csv\" has been referenced from github repository.\n",
    "Content\n",
    "Column Name \t               Description\n",
    "    price \t          price in US dollars (\\$326--\\$18,823)\n",
    "    carat \t          weight of the diamond (0.2--5.01)\n",
    "    cut \t          quality of the cut (Fair, Good, Very Good, Premium, Ideal)\n",
    "    color \t          diamond colour, from J (worst) to D (best)\n",
    "    clarity \t      a measurement of how clear the diamond is (I1 (worst), SI2, SI1, VS2, VS1, VVS2, VVS1, IF (best))\n",
    "    x \t              length in mm (0--10.74)\n",
    "    y \t              width in mm (0--58.9)\n",
    "    z \t              depth in mm (0--31.8)\n",
    "    depth \t          total depth percentage = z / mean(x, y) = 2 * z / (x + y) (43--79)\n",
    "    table \t          width of top of diamond relative to widest point (43--95)"
   ]
  },
  {
   "cell_type": "code",
   "execution_count": 21,
   "id": "vulnerable-corruption",
   "metadata": {},
   "outputs": [
    {
     "name": "stdout",
     "output_type": "stream",
     "text": [
      "       carat        cut color clarity  depth  table  price     x     y     z\n",
      "0       0.23      Ideal     E     SI2   61.5   55.0    326  3.95  3.98  2.43\n",
      "1       0.21    Premium     E     SI1   59.8   61.0    326  3.89  3.84  2.31\n",
      "2       0.23       Good     E     VS1   56.9   65.0    327  4.05  4.07  2.31\n",
      "3       0.29    Premium     I     VS2   62.4   58.0    334  4.20  4.23  2.63\n",
      "4       0.31       Good     J     SI2   63.3   58.0    335  4.34  4.35  2.75\n",
      "...      ...        ...   ...     ...    ...    ...    ...   ...   ...   ...\n",
      "53935   0.72      Ideal     D     SI1   60.8   57.0   2757  5.75  5.76  3.50\n",
      "53936   0.72       Good     D     SI1   63.1   55.0   2757  5.69  5.75  3.61\n",
      "53937   0.70  Very Good     D     SI1   62.8   60.0   2757  5.66  5.68  3.56\n",
      "53938   0.86    Premium     H     SI2   61.0   58.0   2757  6.15  6.12  3.74\n",
      "53939   0.75      Ideal     D     SI2   62.2   55.0   2757  5.83  5.87  3.64\n",
      "\n",
      "[53940 rows x 10 columns]\n"
     ]
    }
   ],
   "source": [
    "# Access dimond.csv\n",
    "\n",
    "import pandas as pd\n",
    "diamonds = pd.read_csv('https://raw.githubusercontent.com/mwaskom/seaborn-data/master/diamonds.csv')\n",
    "print(diamonds)\n"
   ]
  },
  {
   "cell_type": "code",
   "execution_count": 22,
   "id": "geological-parish",
   "metadata": {},
   "outputs": [
    {
     "name": "stdout",
     "output_type": "stream",
     "text": [
      "First 5 rows:\n",
      "   carat      cut color clarity  depth  table  price     x     y     z\n",
      "0   0.23    Ideal     E     SI2   61.5   55.0    326  3.95  3.98  2.43\n",
      "1   0.21  Premium     E     SI1   59.8   61.0    326  3.89  3.84  2.31\n",
      "2   0.23     Good     E     VS1   56.9   65.0    327  4.05  4.07  2.31\n",
      "3   0.29  Premium     I     VS2   62.4   58.0    334  4.20  4.23  2.63\n",
      "4   0.31     Good     J     SI2   63.3   58.0    335  4.34  4.35  2.75\n"
     ]
    }
   ],
   "source": [
    "# 1. Write a Pandas program to read a csv file from a specified source and print the first 5 rows.\n",
    "\n",
    "import pandas as pd\n",
    "pd.set_option('display.max_rows', 50)\n",
    "pd.set_option('display.max_columns', 50)\n",
    "diamonds = pd.read_csv('https://raw.githubusercontent.com/mwaskom/seaborn-data/master/diamonds.csv')\n",
    "print(\"First 5 rows:\")\n",
    "print(diamonds.head())\n"
   ]
  },
  {
   "cell_type": "code",
   "execution_count": 23,
   "id": "classified-modem",
   "metadata": {},
   "outputs": [
    {
     "name": "stdout",
     "output_type": "stream",
     "text": [
      "First 6 rows:\n",
      "   carat        cut     x     y     z\n",
      "0   0.23      Ideal  3.95  3.98  2.43\n",
      "1   0.21    Premium  3.89  3.84  2.31\n",
      "2   0.23       Good  4.05  4.07  2.31\n",
      "3   0.29    Premium  4.20  4.23  2.63\n",
      "4   0.31       Good  4.34  4.35  2.75\n",
      "5   0.24  Very Good  3.94  3.96  2.48\n"
     ]
    }
   ],
   "source": [
    "# Write a Pandas program to read a dataset from diamonds DataFrame and modify the default columns values and \n",
    "# print the first 6 rows.\n",
    "\n",
    "import pandas as pd\n",
    "user_cols = ['carat', 'cut', 'x', 'y', 'z']\n",
    "diamonds = pd.read_csv('https://raw.githubusercontent.com/mwaskom/seaborn-data/master/diamonds.csv')\n",
    "print(\"First 6 rows:\")\n",
    "print(diamonds[user_cols].head(6))\n"
   ]
  },
  {
   "cell_type": "code",
   "execution_count": 24,
   "id": "matched-conversation",
   "metadata": {},
   "outputs": [
    {
     "name": "stdout",
     "output_type": "stream",
     "text": [
      "0        0.23\n",
      "1        0.21\n",
      "2        0.23\n",
      "3        0.29\n",
      "4        0.31\n",
      "         ... \n",
      "53935    0.72\n",
      "53936    0.72\n",
      "53937    0.70\n",
      "53938    0.86\n",
      "53939    0.75\n",
      "Name: carat, Length: 53940, dtype: float64\n"
     ]
    }
   ],
   "source": [
    "# Write a Pandas program to select a series from diamonds DataFrame. Print the content of the series.\n",
    "\n",
    "import pandas as pd\n",
    "diamonds = pd.read_csv('https://raw.githubusercontent.com/mwaskom/seaborn-data/master/diamonds.csv')\n",
    "print(diamonds['carat'])"
   ]
  },
  {
   "cell_type": "code",
   "execution_count": 25,
   "id": "steady-third",
   "metadata": {},
   "outputs": [
    {
     "name": "stdout",
     "output_type": "stream",
     "text": [
      "   carat      cut color clarity  depth  table  price     x     y     z  \\\n",
      "0   0.23    Ideal     E     SI2   61.5   55.0    326  3.95  3.98  2.43   \n",
      "1   0.21  Premium     E     SI1   59.8   61.0    326  3.89  3.84  2.31   \n",
      "2   0.23     Good     E     VS1   56.9   65.0    327  4.05  4.07  2.31   \n",
      "3   0.29  Premium     I     VS2   62.4   58.0    334  4.20  4.23  2.63   \n",
      "4   0.31     Good     J     SI2   63.3   58.0    335  4.34  4.35  2.75   \n",
      "\n",
      "  Quality–color  \n",
      "0      Ideal, E  \n",
      "1    Premium, E  \n",
      "2       Good, E  \n",
      "3    Premium, I  \n",
      "4       Good, J  \n"
     ]
    }
   ],
   "source": [
    "# Write a Pandas program to create a new 'Quality -color' Series (use bracket notation to define the Series name) of the \n",
    "# diamonds DataFrame.\n",
    "\n",
    "import pandas as pd\n",
    "diamonds = pd.read_csv('https://raw.githubusercontent.com/mwaskom/seaborn-data/master/diamonds.csv')\n",
    "#print(diamonds['carat'])\n",
    "diamonds['Quality–color'] = diamonds.cut + ', ' + diamonds.color\n",
    "print(diamonds.head())\n"
   ]
  },
  {
   "cell_type": "code",
   "execution_count": 26,
   "id": "continent-spray",
   "metadata": {},
   "outputs": [
    {
     "name": "stdout",
     "output_type": "stream",
     "text": [
      "Number of rows and columns:\n",
      "(53940, 10)\n",
      "\n",
      "Data type of each column:\n",
      "carat      float64\n",
      "cut         object\n",
      "color       object\n",
      "clarity     object\n",
      "depth      float64\n",
      "table      float64\n",
      "price        int64\n",
      "x          float64\n",
      "y          float64\n",
      "z          float64\n",
      "dtype: object\n"
     ]
    }
   ],
   "source": [
    "# Write a Pandas program to find the number of rows and columns and data type of each column of diamonds Dataframe.\n",
    "\n",
    "import pandas as pd\n",
    "diamonds = pd.read_csv('https://raw.githubusercontent.com/mwaskom/seaborn-data/master/diamonds.csv')\n",
    "print(\"Number of rows and columns:\")\n",
    "print(diamonds.shape)\n",
    "print(\"\\nData type of each column:\")\n",
    "print(diamonds.dtypes)\n"
   ]
  },
  {
   "cell_type": "code",
   "execution_count": 27,
   "id": "surgical-contents",
   "metadata": {},
   "outputs": [
    {
     "name": "stdout",
     "output_type": "stream",
     "text": [
      "Summarize of 'object' columns:\n",
      "          cut  color clarity\n",
      "count   53940  53940   53940\n",
      "unique      5      7       8\n",
      "top     Ideal      G     SI1\n",
      "freq    21551  11292   13065\n"
     ]
    }
   ],
   "source": [
    "# Write a Pandas program to summarize only 'object' columns of the diamonds Dataframe.\n",
    "\n",
    "import pandas as pd\n",
    "diamonds = pd.read_csv('https://raw.githubusercontent.com/mwaskom/seaborn-data/master/diamonds.csv')\n",
    "print(\"Summarize of 'object' columns:\")\n",
    "print(diamonds.describe(include=['object']))\n"
   ]
  },
  {
   "cell_type": "code",
   "execution_count": null,
   "id": "hazardous-position",
   "metadata": {},
   "outputs": [],
   "source": [
    "Reference: https://www.w3resource.com/python-exercises/pandas/practice-set1/index.php"
   ]
  }
 ],
 "metadata": {
  "kernelspec": {
   "display_name": "Python 3",
   "language": "python",
   "name": "python3"
  },
  "language_info": {
   "codemirror_mode": {
    "name": "ipython",
    "version": 3
   },
   "file_extension": ".py",
   "mimetype": "text/x-python",
   "name": "python",
   "nbconvert_exporter": "python",
   "pygments_lexer": "ipython3",
   "version": "3.9.2"
  }
 },
 "nbformat": 4,
 "nbformat_minor": 5
}
