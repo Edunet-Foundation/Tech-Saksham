{
 "cells": [
  {
   "cell_type": "markdown",
   "metadata": {},
   "source": [
    "# Matplotlib Configuration"
   ]
  },
  {
   "cell_type": "code",
   "execution_count": 1,
   "metadata": {},
   "outputs": [
    {
     "name": "stdout",
     "output_type": "stream",
     "text": [
      "Collecting package metadata (current_repodata.json): ...working... done\n",
      "Solving environment: ...working... done\n",
      "\n",
      "## Package Plan ##\n",
      "\n",
      "  environment location: C:\\ProgramData\\Anaconda3\n",
      "\n",
      "  added / updated specs:\n",
      "    - matplotlib\n",
      "\n",
      "\n",
      "The following packages will be downloaded:\n",
      "\n",
      "    package                    |            build\n",
      "    ---------------------------|-----------------\n",
      "    conda-4.10.1               |   py38haa95532_1         2.9 MB\n",
      "    ------------------------------------------------------------\n",
      "                                           Total:         2.9 MB\n",
      "Note: you may need to restart the kernel to use updated packages.\n",
      "\n",
      "\n"
     ]
    },
    {
     "name": "stderr",
     "output_type": "stream",
     "text": [
      "\n",
      "EnvironmentNotWritableError: The current user does not have write permissions to the target environment.\n",
      "  environment location: C:\\ProgramData\\Anaconda3\n",
      "\n",
      "\n"
     ]
    },
    {
     "name": "stdout",
     "output_type": "stream",
     "text": [
      "The following packages will be UPDATED:\n",
      "\n",
      "  conda                                4.9.2-py38haa95532_0 --> 4.10.1-py38haa95532_1\n",
      "\n",
      "\n",
      "\n",
      "Downloading and Extracting Packages\n",
      "\n",
      "conda-4.10.1         | 2.9 MB    |            |   0% \n",
      "conda-4.10.1         | 2.9 MB    |            |   1% \n",
      "conda-4.10.1         | 2.9 MB    | 2          |   2% \n",
      "conda-4.10.1         | 2.9 MB    | 3          |   4% \n",
      "conda-4.10.1         | 2.9 MB    | 5          |   5% \n",
      "conda-4.10.1         | 2.9 MB    | 7          |   8% \n",
      "conda-4.10.1         | 2.9 MB    | 9          |  10% \n",
      "conda-4.10.1         | 2.9 MB    | #1         |  12% \n",
      "conda-4.10.1         | 2.9 MB    | #4         |  14% \n",
      "conda-4.10.1         | 2.9 MB    | #6         |  16% \n",
      "conda-4.10.1         | 2.9 MB    | #8         |  18% \n",
      "conda-4.10.1         | 2.9 MB    | ##         |  21% \n",
      "conda-4.10.1         | 2.9 MB    | ##2        |  23% \n",
      "conda-4.10.1         | 2.9 MB    | ##4        |  25% \n",
      "conda-4.10.1         | 2.9 MB    | ##9        |  29% \n",
      "conda-4.10.1         | 2.9 MB    | ###2       |  32% \n",
      "conda-4.10.1         | 2.9 MB    | ###4       |  34% \n",
      "conda-4.10.1         | 2.9 MB    | ####1      |  42% \n",
      "conda-4.10.1         | 2.9 MB    | ####5      |  45% \n",
      "conda-4.10.1         | 2.9 MB    | ####7      |  48% \n",
      "conda-4.10.1         | 2.9 MB    | #####      |  51% \n",
      "conda-4.10.1         | 2.9 MB    | #####2     |  53% \n",
      "conda-4.10.1         | 2.9 MB    | #####4     |  55% \n",
      "conda-4.10.1         | 2.9 MB    | #####7     |  57% \n",
      "conda-4.10.1         | 2.9 MB    | #####9     |  59% \n",
      "conda-4.10.1         | 2.9 MB    | ######1    |  61% \n",
      "conda-4.10.1         | 2.9 MB    | ######3    |  64% \n",
      "conda-4.10.1         | 2.9 MB    | ######5    |  65% \n",
      "conda-4.10.1         | 2.9 MB    | ######7    |  67% \n",
      "conda-4.10.1         | 2.9 MB    | ######8    |  69% \n",
      "conda-4.10.1         | 2.9 MB    | #######    |  71% \n",
      "conda-4.10.1         | 2.9 MB    | #######2   |  73% \n",
      "conda-4.10.1         | 2.9 MB    | #######4   |  74% \n",
      "conda-4.10.1         | 2.9 MB    | #######6   |  77% \n",
      "conda-4.10.1         | 2.9 MB    | #######8   |  78% \n",
      "conda-4.10.1         | 2.9 MB    | #######9   |  80% \n",
      "conda-4.10.1         | 2.9 MB    | ########2  |  82% \n",
      "conda-4.10.1         | 2.9 MB    | ########3  |  84% \n",
      "conda-4.10.1         | 2.9 MB    | ########5  |  86% \n",
      "conda-4.10.1         | 2.9 MB    | ########7  |  87% \n",
      "conda-4.10.1         | 2.9 MB    | #########  |  90% \n",
      "conda-4.10.1         | 2.9 MB    | #########1 |  92% \n",
      "conda-4.10.1         | 2.9 MB    | #########4 |  95% \n",
      "conda-4.10.1         | 2.9 MB    | #########6 |  97% \n",
      "conda-4.10.1         | 2.9 MB    | #########8 |  99% \n",
      "conda-4.10.1         | 2.9 MB    | ########## | 100% \n",
      "Preparing transaction: ...working... done\n",
      "Verifying transaction: ...working... failed\n"
     ]
    }
   ],
   "source": [
    "conda install matplotlib"
   ]
  },
  {
   "cell_type": "code",
   "execution_count": 1,
   "metadata": {},
   "outputs": [
    {
     "name": "stdout",
     "output_type": "stream",
     "text": [
      "Requirement already satisfied: matplotlib in c:\\programdata\\anaconda3\\lib\\site-packages (3.3.2)\n",
      "Requirement already satisfied: pyparsing!=2.0.4,!=2.1.2,!=2.1.6,>=2.0.3 in c:\\programdata\\anaconda3\\lib\\site-packages (from matplotlib) (2.4.7)\n",
      "Requirement already satisfied: pillow>=6.2.0 in c:\\programdata\\anaconda3\\lib\\site-packages (from matplotlib) (8.0.1)\n",
      "Requirement already satisfied: python-dateutil>=2.1 in c:\\programdata\\anaconda3\\lib\\site-packages (from matplotlib) (2.8.1)\n",
      "Requirement already satisfied: kiwisolver>=1.0.1 in c:\\programdata\\anaconda3\\lib\\site-packages (from matplotlib) (1.3.0)\n",
      "Requirement already satisfied: certifi>=2020.06.20 in c:\\programdata\\anaconda3\\lib\\site-packages (from matplotlib) (2020.6.20)\n",
      "Requirement already satisfied: cycler>=0.10 in c:\\programdata\\anaconda3\\lib\\site-packages (from matplotlib) (0.10.0)\n",
      "Requirement already satisfied: numpy>=1.15 in c:\\programdata\\anaconda3\\lib\\site-packages (from matplotlib) (1.19.2)\n",
      "Requirement already satisfied: six>=1.5 in c:\\programdata\\anaconda3\\lib\\site-packages (from python-dateutil>=2.1->matplotlib) (1.15.0)\n",
      "Note: you may need to restart the kernel to use updated packages.\n"
     ]
    }
   ],
   "source": [
    "pip install matplotlib\n"
   ]
  },
  {
   "cell_type": "code",
   "execution_count": null,
   "metadata": {},
   "outputs": [],
   "source": []
  }
 ],
 "metadata": {
  "kernelspec": {
   "display_name": "Python 3",
   "language": "python",
   "name": "python3"
  },
  "language_info": {
   "codemirror_mode": {
    "name": "ipython",
    "version": 3
   },
   "file_extension": ".py",
   "mimetype": "text/x-python",
   "name": "python",
   "nbconvert_exporter": "python",
   "pygments_lexer": "ipython3",
   "version": "3.8.5"
  }
 },
 "nbformat": 4,
 "nbformat_minor": 4
}
