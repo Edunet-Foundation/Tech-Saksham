{
 "cells": [
  {
   "cell_type": "markdown",
   "id": "e6625c95",
   "metadata": {},
   "source": [
    "Steps to follow:\n",
    "\n",
    "1. Installing the Tesseract OCR software\n",
    "- Simple steps for tesseract installation in windows.\n",
    "- Download tesseract exe from https://github.com/UB-Mannheim/tesseract/wiki\n",
    "- Install this exe in C:\\Program Files (x86)\\Tesseract- OCR\n",
    "\n",
    "Put this line in code:\n",
    "\n",
    "pytesseract.pytesseract.tesseract_cmd = r'C:\\Program Files\\Tesseract-OCR\\Tesseract'\n",
    "\n",
    "Note: For Linux machine type sudo apt install tesseract-ocr\n",
    "\n",
    "2. Installing the Python wrapper for Tesseract\n",
    "\n",
    "!pip install pytesseract\n",
    "\n",
    "3. Get Image\n",
    "\n",
    "4. Using image_to_string method\n",
    "\n",
    "\n",
    "More on pytesseract library : https://pypi.org/project/pytesseract/"
   ]
  },
  {
   "cell_type": "code",
   "execution_count": 1,
   "id": "d3cb9402",
   "metadata": {},
   "outputs": [
    {
     "name": "stdout",
     "output_type": "stream",
     "text": [
      "Requirement already satisfied: pytesseract in c:\\users\\ameen\\anaconda3\\lib\\site-packages (0.3.7)\n",
      "Requirement already satisfied: Pillow in c:\\users\\ameen\\anaconda3\\lib\\site-packages (from pytesseract) (8.2.0)\n"
     ]
    }
   ],
   "source": [
    "!pip install pytesseract"
   ]
  },
  {
   "cell_type": "code",
   "execution_count": 6,
   "id": "f2636c12",
   "metadata": {
    "scrolled": true
   },
   "outputs": [],
   "source": [
    "import cv2\n",
    "img = cv2.imread('demo_ocr.jpg')\n",
    "cv2.imshow('Ouput',img)\n",
    "cv2.waitKey()  # Wait for user to press key\n",
    "cv2.destroyAllWindows() # CLose the window which is opened"
   ]
  },
  {
   "cell_type": "code",
   "execution_count": 8,
   "id": "551cd4ca",
   "metadata": {},
   "outputs": [
    {
     "name": "stdout",
     "output_type": "stream",
     "text": [
      "EVERYDAY IS A\n",
      "HUSTLE.\n",
      "\n",
      "DO I GET\n",
      "TIRED? YES.\n",
      "DO I GIVE UP?\n",
      "NO.\n",
      "\f",
      "\n"
     ]
    }
   ],
   "source": [
    "import pytesseract\n",
    "pytesseract.pytesseract.tesseract_cmd = r'C:\\Program Files\\Tesseract-OCR\\Tesseract'\n",
    "print(pytesseract.image_to_string(img))"
   ]
  },
  {
   "cell_type": "code",
   "execution_count": 9,
   "id": "0a49427d",
   "metadata": {},
   "outputs": [],
   "source": [
    "# Program 1: Getting bounding boxes for characters\n",
    "hImg, wImg,_ = img.shape # Taking the height and width of an Image\n",
    "boxes = pytesseract.image_to_boxes(img) # Getting the boxes for every letter\n",
    "for b in boxes.splitlines():\n",
    "    b = b.split(' ') \n",
    "    x, y, w, h = int(b[1]), int(b[2]), int(b[3]), int(b[4])\n",
    "    cv2.rectangle(img, (x,hImg- y), (w,hImg- h), (50, 50, 255), 2)\n",
    "    cv2.putText(img,b[0],(x,hImg- y+25),cv2.FONT_HERSHEY_SIMPLEX,0.5,(50,50,255),2)\n",
    "\n",
    "cv2.imshow('Ouput',img)\n",
    "cv2.waitKey()  # Wait for user to press key\n",
    "cv2.destroyAllWindows() # CLose the window which is opened"
   ]
  },
  {
   "cell_type": "code",
   "execution_count": 11,
   "id": "81e7cb09",
   "metadata": {},
   "outputs": [],
   "source": [
    "\n",
    "# Program 2: Getting Bounding boxes for the complete word\n",
    "img = cv2.imread('demo_ocr.jpg')\n",
    "img = cv2.cvtColor(img, cv2.COLOR_BGR2RGB)\n",
    "boxes = pytesseract.image_to_data(img)  # Getting the data of every letter from Image\n",
    "for a,b in enumerate(boxes.splitlines()): # Iterating through Bounding Boxes\n",
    "        if a!=0:\n",
    "            b = b.split()\n",
    "            if len(b)==12: # For getting the text in wordings use len(b)== 12\n",
    "                x,y,w,h = int(b[6]),int(b[7]),int(b[8]),int(b[9]) # Co-ordinates of respective boxes\n",
    "                cv2.putText(img,b[11],(x,y-5),cv2.FONT_HERSHEY_SIMPLEX,0.6,(50,50,255),2)\n",
    "                cv2.rectangle(img, (x,y), (x+w, y+h), (50, 50, 255), 2)\n",
    "\n",
    "cv2.imshow('Ouput',img)\n",
    "cv2.waitKey()  # Wait for user to press key\n",
    "cv2.destroyAllWindows() # CLose the window which is opened"
   ]
  },
  {
   "cell_type": "markdown",
   "id": "00bef786",
   "metadata": {},
   "source": [
    "# https://github.com/madmaze/pytesseract\n",
    "\n",
    "Link to Image : https://cdn-0.therandomvibez.com/wp-content/uploads/2019/09/My-Hustle-Quotes-400x535.jpg"
   ]
  },
  {
   "cell_type": "code",
   "execution_count": null,
   "id": "85634b17",
   "metadata": {},
   "outputs": [],
   "source": []
  }
 ],
 "metadata": {
  "kernelspec": {
   "display_name": "Python 3",
   "language": "python",
   "name": "python3"
  },
  "language_info": {
   "codemirror_mode": {
    "name": "ipython",
    "version": 3
   },
   "file_extension": ".py",
   "mimetype": "text/x-python",
   "name": "python",
   "nbconvert_exporter": "python",
   "pygments_lexer": "ipython3",
   "version": "3.8.8"
  }
 },
 "nbformat": 4,
 "nbformat_minor": 5
}
