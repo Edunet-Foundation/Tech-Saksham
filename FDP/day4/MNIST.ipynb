{
 "cells": [
  {
   "cell_type": "code",
   "execution_count": 1,
   "metadata": {
    "colab": {
     "base_uri": "https://localhost:8080/"
    },
    "id": "eYW3JuceBnuH",
    "outputId": "f571f826-3c8d-4995-8f3f-4f62ef265d72"
   },
   "outputs": [],
   "source": [
    "from tensorflow import keras\n",
    "mnist = keras.datasets.mnist\n",
    "(x_train,y_train),(x_test,y_test) = mnist.load_data()"
   ]
  },
  {
   "cell_type": "code",
   "execution_count": 3,
   "metadata": {
    "colab": {
     "base_uri": "https://localhost:8080/",
     "height": 265
    },
    "id": "aIet8up7CKzj",
    "outputId": "34a1789a-eb30-497b-b503-3118596907d0"
   },
   "outputs": [
    {
     "data": {
      "image/png": "[encoded data removed]",
      "text/plain": [
       "<Figure size 432x288 with 1 Axes>"
      ]
     },
     "metadata": {
      "needs_background": "light"
     },
     "output_type": "display_data"
    }
   ],
   "source": [
    "# check loaded dataset\n",
    "import matplotlib.pyplot as plt\n",
    "plt.imshow(x_train[1214],cmap = 'gray')\n",
    "plt.show()"
   ]
  },
  {
   "cell_type": "code",
   "execution_count": 4,
   "metadata": {
    "id": "wqKAq6hPCTTJ"
   },
   "outputs": [],
   "source": [
    "# Standardize the pixel values\n",
    "x_train = x_train/255\n",
    "x_test = x_test/255"
   ]
  },
  {
   "cell_type": "code",
   "execution_count": 5,
   "metadata": {
    "id": "d9G2xuKhDM3z"
   },
   "outputs": [],
   "source": [
    "# Create model\n",
    "model = keras.Sequential()\n",
    "model.add(keras.layers.Flatten()) # Input Layer\n",
    "model.add(keras.layers.Dense(512,input_shape=x_train.shape[1:],activation = 'relu'))\n",
    "model.add(keras.layers.Dense(10,activation ='softmax'))"
   ]
  },
  {
   "cell_type": "code",
   "execution_count": 6,
   "metadata": {
    "id": "36j04n5Pn72q"
   },
   "outputs": [],
   "source": [
    "# compile model\n",
    "model.compile(optimizer='adam',loss='sparse_categorical_crossentropy',metrics=['accuracy'])"
   ]
  },
  {
   "cell_type": "code",
   "execution_count": 7,
   "metadata": {
    "colab": {
     "base_uri": "https://localhost:8080/"
    },
    "id": "vwLUmUE5n-XQ",
    "outputId": "10866539-277a-44f1-b2be-3856999e2af2"
   },
   "outputs": [
    {
     "name": "stdout",
     "output_type": "stream",
     "text": [
      "Epoch 1/2\n",
      "1875/1875 [==============================] - 12s 5ms/step - loss: 0.3489 - accuracy: 0.8954\n",
      "Epoch 2/2\n",
      "1875/1875 [==============================] - 10s 5ms/step - loss: 0.0852 - accuracy: 0.9751\n"
     ]
    }
   ],
   "source": [
    "history = model.fit(x_train,y_train,epochs = 5)\n",
    "# Batch-size = 32"
   ]
  },
  {
   "cell_type": "code",
   "execution_count": 8,
   "metadata": {
    "colab": {
     "base_uri": "https://localhost:8080/"
    },
    "id": "R7-VVX3AtSIA",
    "outputId": "1fdf5a4e-5a4b-4d0f-b788-25a7586c27e9"
   },
   "outputs": [
    {
     "name": "stderr",
     "output_type": "stream",
     "text": [
      "C:\\Users\\Administrator\\Anaconda3\\lib\\site-packages\\tensorflow\\python\\keras\\engine\\sequential.py:450: UserWarning: `model.predict_classes()` is deprecated and will be removed after 2021-01-01. Please use instead:* `np.argmax(model.predict(x), axis=-1)`,   if your model does multi-class classification   (e.g. if it uses a `softmax` last-layer activation).* `(model.predict(x) > 0.5).astype(\"int32\")`,   if your model does binary classification   (e.g. if it uses a `sigmoid` last-layer activation).\n",
      "  warnings.warn('`model.predict_classes()` is deprecated and '\n"
     ]
    },
    {
     "data": {
      "text/plain": [
       "array([7, 2, 1, ..., 4, 5, 6], dtype=int64)"
      ]
     },
     "execution_count": 8,
     "metadata": {},
     "output_type": "execute_result"
    }
   ],
   "source": [
    "y_pred = model.predict_classes(x_test)\n",
    "y_pred"
   ]
  },
  {
   "cell_type": "code",
   "execution_count": 9,
   "metadata": {
    "colab": {
     "base_uri": "https://localhost:8080/"
    },
    "id": "nDbR-fHktcSi",
    "outputId": "6e7e2608-3e7a-4889-b9f0-f8e7ea36fac0"
   },
   "outputs": [
    {
     "data": {
      "text/plain": [
       "array([7, 2, 1, ..., 4, 5, 6], dtype=int64)"
      ]
     },
     "execution_count": 9,
     "metadata": {},
     "output_type": "execute_result"
    }
   ],
   "source": [
    "import numpy as np\n",
    "np.argmax(model.predict(x_test), axis=1)"
   ]
  },
  {
   "cell_type": "code",
   "execution_count": 10,
   "metadata": {
    "colab": {
     "base_uri": "https://localhost:8080/"
    },
    "id": "ZGQdj8P6sXjv",
    "outputId": "68ffa863-0bb4-461c-ca57-3b29772d7259"
   },
   "outputs": [
    {
     "data": {
      "text/plain": [
       "array([7, 2, 1, ..., 4, 5, 6], dtype=uint8)"
      ]
     },
     "execution_count": 10,
     "metadata": {},
     "output_type": "execute_result"
    }
   ],
   "source": [
    "y_test # Real output"
   ]
  },
  {
   "cell_type": "code",
   "execution_count": 11,
   "metadata": {
    "colab": {
     "base_uri": "https://localhost:8080/"
    },
    "id": "B59tPNYhs7bE",
    "outputId": "b0c00225-22cb-4545-b33f-9a78157b7710"
   },
   "outputs": [
    {
     "data": {
      "text/plain": [
       "array([[ 973,    0,    1,    0,    1,    3,    3,    1,    4,    1],\n",
       "       [   0, 1111,    0,    0,    0,    0,    3,    2,    0,    1],\n",
       "       [   0,    4, 1012,    5,    3,    0,    0,    7,    3,    0],\n",
       "       [   0,    1,    3,  984,    0,    7,    1,    2,   10,    2],\n",
       "       [   1,    0,    3,    0,  934,    0,    9,    0,    5,    4],\n",
       "       [   0,    2,    0,    3,    0,  869,    5,    0,    1,    3],\n",
       "       [   1,    2,    2,    0,    3,    3,  933,    0,    0,    0],\n",
       "       [   1,    1,    4,    4,    0,    1,    0,  993,    4,    0],\n",
       "       [   2,    9,    6,    2,    0,    2,    4,    1,  932,    1],\n",
       "       [   2,    5,    1,   12,   41,    7,    0,   22,   15,  997]],\n",
       "      dtype=int64)"
      ]
     },
     "execution_count": 11,
     "metadata": {},
     "output_type": "execute_result"
    }
   ],
   "source": [
    "# Evaluation\n",
    "from sklearn.metrics import confusion_matrix,accuracy_score\n",
    "confusion_matrix(y_pred,y_test)"
   ]
  },
  {
   "cell_type": "code",
   "execution_count": 12,
   "metadata": {
    "colab": {
     "base_uri": "https://localhost:8080/"
    },
    "id": "NkF7MDaft_iV",
    "outputId": "5e2e7558-3ae9-420a-ee9d-3be010834601"
   },
   "outputs": [
    {
     "data": {
      "text/plain": [
       "0.9738"
      ]
     },
     "execution_count": 12,
     "metadata": {},
     "output_type": "execute_result"
    }
   ],
   "source": [
    "accuracy_score(y_pred,y_test)"
   ]
  },
  {
   "cell_type": "code",
   "execution_count": 12,
   "metadata": {
    "id": "GmGfW6bcDLqA"
   },
   "outputs": [],
   "source": [
    "# We will store the NN Model in a file.\n",
    "# .h5 file format \n",
    "\n",
    "model.save('model_digit.hdf5')"
   ]
  },
  {
   "cell_type": "code",
   "execution_count": 14,
   "metadata": {
    "colab": {
     "base_uri": "https://localhost:8080/"
    },
    "id": "mgzxQcisadH-",
    "outputId": "bc0ebaab-95d6-43c7-bc74-de9c301b5856"
   },
   "outputs": [
    {
     "data": {
      "text/plain": [
       "7"
      ]
     },
     "execution_count": 14,
     "metadata": {
      "tags": []
     },
     "output_type": "execute_result"
    }
   ],
   "source": [
    "np.argmax(model.predict(x_test[0].reshape(1,28,28)))"
   ]
  }
 ],
 "metadata": {
  "colab": {
   "collapsed_sections": [],
   "name": "MNIST.ipynb",
   "provenance": []
  },
  "kernelspec": {
   "display_name": "Python 3",
   "language": "python",
   "name": "python3"
  },
  "language_info": {
   "codemirror_mode": {
    "name": "ipython",
    "version": 3
   },
   "file_extension": ".py",
   "mimetype": "text/x-python",
   "name": "python",
   "nbconvert_exporter": "python",
   "pygments_lexer": "ipython3",
   "version": "3.7.3"
  }
 },
 "nbformat": 4,
 "nbformat_minor": 1
}
